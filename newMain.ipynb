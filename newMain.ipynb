{
 "cells": [
  {
   "attachments": {},
   "cell_type": "markdown",
   "metadata": {},
   "source": [
    "# <font color=red>Libraries</font>"
   ]
  },
  {
   "cell_type": "code",
   "execution_count": 2,
   "metadata": {},
   "outputs": [],
   "source": [
    "import numpy as np\n",
    "import pandas as pd\n",
    "from fuzzywuzzy import fuzz\n",
    "import warnings as wng\n",
    "import re\n",
    "from tqdm import tqdm\n",
    "from datetime import datetime, date, timedelta\n",
    "from collections import Counter\n",
    "from concurrent.futures import ThreadPoolExecutor, as_completed\n",
    "from ast import literal_eval\n",
    "from IPython.display import display, Markdown, clear_output"
   ]
  },
  {
   "attachments": {},
   "cell_type": "markdown",
   "metadata": {},
   "source": [
    "## <font color=red>Setting Environment</font>\n",
    "# <font color=yellow>FLAG - remove comment #(s)</font>"
   ]
  },
  {
   "cell_type": "code",
   "execution_count": 3,
   "metadata": {},
   "outputs": [],
   "source": [
    "# for ignoring warning\n",
    "wng.filterwarnings('ignore')\n",
    "# setting display size\n",
    "pd.set_option('display.max_columns', None)\n",
    "pd.set_option('display.max_rows', None)\n",
    "pd.set_option('display.max_colwidth', None)"
   ]
  },
  {
   "attachments": {},
   "cell_type": "markdown",
   "metadata": {},
   "source": [
    "# <font color=red>Functions and Utilities</font>"
   ]
  },
  {
   "attachments": {},
   "cell_type": "markdown",
   "metadata": {},
   "source": [
    "## <font color=aqua>custom print function</font>"
   ]
  },
  {
   "cell_type": "code",
   "execution_count": 4,
   "metadata": {},
   "outputs": [],
   "source": [
    "def newPrint(title, msg=\"\", size=3, center=False):\n",
    "    n = size\n",
    "    if msg != \"\":\n",
    "        title = title + \": \"\n",
    "    if center:\n",
    "        return display(Markdown(n*'#' + ' <center> <font color=green>'+title+'</font>' +\n",
    "                                ' <font color=red>'+'<b>'+'<em>'+str(msg).replace('\\n','<br>')+'</em>'+'</b>'+'</font> </center>'))\n",
    "    else:\n",
    "        return display(Markdown(n*'#' + ' <font color=green>'+title+'</font>' +\n",
    "                                ' <font color=red>'+'<b>'+'<em>'+str(msg).replace('\\n','<br>')+'</em>'+'</b>'+'</font>'))"
   ]
  },
  {
   "attachments": {},
   "cell_type": "markdown",
   "metadata": {},
   "source": [
    "## <font color=aqua>Func for taking count of all occurences of specific word in all address database </font> "
   ]
  },
  {
   "cell_type": "code",
   "execution_count": 5,
   "metadata": {},
   "outputs": [],
   "source": [
    "def fetch_words(frame, col, all_words=True):\n",
    "    out = []\n",
    "    for s in frame[col]:\n",
    "        s=str(s)\n",
    "        for ss in s.split():\n",
    "            if all_words:\n",
    "                try:\n",
    "                    out.append(ss.upper().strip())\n",
    "                except:\n",
    "                    continue\n",
    "\n",
    "    word_corpus = Counter(out)\n",
    "    return word_corpus"
   ]
  },
  {
   "attachments": {},
   "cell_type": "markdown",
   "metadata": {},
   "source": [
    "## <font color=aqua>Func to access all keys with given specifc value</font>"
   ]
  },
  {
   "cell_type": "code",
   "execution_count": 6,
   "metadata": {},
   "outputs": [],
   "source": [
    "def get_key(val,my_dict):\n",
    "    out=[] \n",
    "    for key, value in my_dict.items(): \n",
    "         if val == value: \n",
    "              out.append(key) \n",
    "    return out"
   ]
  },
  {
   "attachments": {},
   "cell_type": "markdown",
   "metadata": {},
   "source": [
    "## <font color=aqua>Func to insert space between alpha-numeral </font>"
   ]
  },
  {
   "cell_type": "code",
   "execution_count": 7,
   "metadata": {},
   "outputs": [],
   "source": [
    "def insert_spaces(regex,str1):\n",
    "    return ' '.join((re.sub(regex, ' \\g<0> ', str1)).split())"
   ]
  },
  {
   "attachments": {},
   "cell_type": "markdown",
   "metadata": {},
   "source": [
    "##  <font color=aqua>Func to recognise dtype of word</font>"
   ]
  },
  {
   "cell_type": "code",
   "execution_count": 8,
   "metadata": {},
   "outputs": [],
   "source": [
    "def ifnum(z):\n",
    "    return \"Numeric\" if len(re.findall(r'\\d',z))!= 0 else \"NonNumeric\""
   ]
  },
  {
   "attachments": {},
   "cell_type": "markdown",
   "metadata": {},
   "source": [
    "## <font color=aqua>Func to fetch pincodes from address to a new column</font>"
   ]
  },
  {
   "cell_type": "code",
   "execution_count": 9,
   "metadata": {},
   "outputs": [],
   "source": [
    "def extract_pin(mdf,col,dest,reg):# mdf-dataframe, col-address col, dest-pinode, reg- re.pattern for pincode\n",
    "    mdf[dest] = mdf[col].str.extract(reg)\n",
    "    mdf[col] = mdf[col].str.replace(reg,'',regex=True)"
   ]
  },
  {
   "attachments": {},
   "cell_type": "markdown",
   "metadata": {},
   "source": [
    "## <font color=aqua>Lists for removing and replacing char from addresses</font> "
   ]
  },
  {
   "cell_type": "code",
   "execution_count": 10,
   "metadata": {},
   "outputs": [
    {
     "data": {
      "text/plain": [
       "592"
      ]
     },
     "execution_count": 10,
     "metadata": {},
     "output_type": "execute_result"
    }
   ],
   "source": [
    "rem_list = [\"EXTN\",\"EXT\",\"EXTENSION\",\"NR\",\"NEAR\",\"DEHLI\",\"DELLI\",\"DELHI\",\"DILLI\",\"DELHI\",\"DELHGI\",\"DELH I\",\"DELH\",\"DILHI\",\"DIHLI\"]\n",
    "plot_list = [\"PLOT NOS\",\"NOF\",\"FNO\",\"HNO\",\"H NO\",\"HNOE\",\"HNOM\",\"FLAT\"]\n",
    "street_list = ['STREET','STREETNO','STREET NO','STNO','GLII','GLI',\"GALI\",\"GALI NO\",\"GN\",\"GNO\",\"GALIN\",\"GALINO\",\"G-NO\",\"GALO\",\"GALO NO\",\"NOM\",\"GALLI\",\"GALLI NO\",\"GAALI\",\"GAALI NO\",\"BUND GALI\",\"BAND GALI\",\"BAND GALLI\",\"NOG\",\"NO-G\"]\n",
    "plot_dict = {plot: \"HOUSE NO\" for plot in plot_list}\n",
    "street_dict = {street: \"STREET\" for street in street_list}\n",
    "loc_list = ['NAGAR','COLONY']\n",
    "FLOOR_list = ['FLOOR','FLR','FLOR','GF','FF','SF','TF','UGF','LGF','IF','IIF','IIIF','G F','F F','S F','T F','IV F','TH F','UG F','LG F','FL']\n",
    "repl_dict0 = {\n",
    "            \"FEET\":\"FUTA\",\"FOOTA\":\"FUTA\",\"FEETA\":\"FUTA\",\"FOOT\":\"FUTA\",\"FOOTA ROAD\":\"FUTA\",\"FOOTA RAOD\":\"FUTA\",\"FOOT ROAD\":\"FUTA\",\"FOOTA RODA\":\"FUTA\"\\\n",
    "            ,\"FOOTA ROD\":\"FUTA\",\"FEET ROAD\":\"FUTA\",\"FEET RAOD\":\"FUTA\",\"FOOT RD\":\"FUTA\",\"FEET RD\":\"FUTA\",\"FOOTA RD\":\"FUTA\",\"FEETA RD\":\"FUTA\",\"FUT\":\"FUTA\",\\\n",
    "            \"FUT ROAD\":\"FUTA\",\"FUT ROD\":\"FUTA\",\"FUTA ROAD\":\"FUTA\",\"FUTA RAOD\":\"FUTA\",\"FIT ROAD\":\"FUTA\",\"FITA ROAD\":\"FUTA\",\"FITA RAOD\":\"FUTA\",\"FITA RD\":\"FUTA\"\\\n",
    "            ,\"FUTA\":\"FUTA\",\"PARAK\":\"PARK\",\"PRAK\":\"PARK\",\"PRK\":\"PARK\",\"PARK\":\"PARK\",\"GRDN\":\"GARDEN\",\"GARDN\":\"GARDEN\",\"GARDAN\":\"GARDEN\",\"GRDEN\":\"GARDEN\",\\\n",
    "            \"GRDAN\":\"GARDEN\",\"GERDEN\":\"GARDEN\",\"GERDAN\":\"GARDEN\",\"GDN\":\"GARDEN\",\"GARDEN\":\"GARDEN\",\"GADREN\":\"GARDEN\",\"COLNY\":\"COLONY\",\"COLINY\":\"COLONY\",\\\n",
    "            \"CLONY\":\"COLONY\",\"CALONY\":\"COLONY\",\"CLY\":\"COLONY\",\"CLNY\":\"COLONY\",\"CNY\":\"COLONY\",\"COLONI\":\"COLONY\",\"COLNIY\":\"COLONY\",\"COLONIY\":\"COLONY\",\\\n",
    "            \"COLONIY\":\"COLONY\",\"CALONEY\":\"COLONY\",\"COLONE\":\"COLONY\",\"COLONU\":\"COLONY\",\"CLONEY\":\"COLONY\",\"KOLONY\":\"COLONY\",\"KALONI\":\"COLONY\",\\\n",
    "            \"COLONY\":\"COLONY\",\"VIHR\":\"VIHAR\",\"VHR\":\"VIHAR\",\"VHAR\":\"VIHAR\",\"VEHAR\":\"VIHAR\",\"VIHAAR\":\"VIHAR\",\"VAHAR\":\"VIHAR\",\"VIHAR\":\"VIHAR\",\\\n",
    "            \"ENCLAV\":\"ENCLAVE\",\"ENCALAVE\":\"ENCLAVE\",\"ENCALAV \":\"ENCLAVE\",\"ENCALAV \":\"ENCLAVE\",\"INCLAVE\":\"ENCLAVE\",\"ENCLAVE\":\"ENCLAVE\",\\\n",
    "            \"DILHAD\":\"DILSHAD\",\"DELSHAD\":\"DILSHAD\",\"DLSHAD\":\"DILSHAD\",\"DILSHAD\":\"DILSHAD\",\"BAG \":\"BAGH\",\"BAHG \":\"BAGH\",\"BAHGH\":\"BAGH\",\\\n",
    "            \"BHAG\":\"BAGH\",\"BAAG \":\"BAGH\",\"BAAGH\":\"BAGH\",\"BHAAG\":\"BAGH\",\"BAGH\":\"BAGH\",\"SHAHADARA\":\"SHAHDARA\",\"SHADARA\":\"SHAHDARA\",\"SADARA\":\"SHAHDARA\",\\\n",
    "            \"SHADRA\":\"SHAHDARA\",\"SADRA\":\"SHAHDARA\",\"SHAHDRA\":\"SHAHDARA\"\n",
    "            }\n",
    "repl_dict = {\n",
    "            'AP':'APARTMENTS','ADD':'ADDRESS','APT':'APARTMENTS','APPT':'APARTMENTS','ADMN':'ADMINISTRATION','APTT':'APARTMENTS','APART':'APARTMENTS'\\\n",
    "            ,'APARTMANT':'APARTMENTS','AHINSHAVATIKA':'AHINSA VATIKA','BL':'BLOCK','BLK':'BLOCK','BLOK':'BLOCK','BLOC':'BLOCK','BLCOK':'BLOCK','CLY':'COLONY',\\\n",
    "            'CGHS':'APARTMENTS','CHILL':'CHILLA','CICEK':'VIVEK','COMPLES':'COMPLEX','DASH':'RAVIDAS','DABAL':'DOUBLE','DALLUPRA':'DALLUPURA',\\\n",
    "            'DHARMSHAL':'DHARMSHALA','DHARAMSALA':'DHARMSHALA','DHARMASHALA':'DHARMSHALA','EXT':'EXTENSION','ENV':'ENCLAVE','ECV':'ENCLAVE','ENC':'ENCLAVE'\\\n",
    "            ,'EXTN':'EXTENSION','ENCV':'ENCLAVE','ENCL':'ENCLAVE','EXTEN':'EXTENSION','EXTENED':'EXTENDED','ENCALVE':'ENCLAVE','FL':'FLOOR','FR':'FIRST',\\\n",
    "            'FT':'FOOTA','FLR':'FLOOR','FLO':'FLOOR','FNO':'FLAT NO','FLT':'FLAT','FLOR':'FLOOR','FALT':'FLAT','FLOO':'FLOOR','FLOT':'FLAT','FLOAR':'FLOOR',\\\n",
    "            'FUTTA':'FOOTA','FLORE':'FLOOR','FLATE':'FLAT','FLATNO':'FLAT NO','GD':'GHAROLI DAIRY','GF':'GROUND FLOOR','GRD':'GROUND','GOP':'GOPAL',\\\n",
    "            'GOVT':'GOVERNMENT','GHRO':'GHAROLI','GORAK':'GORAKH','GALINO':'GALI NO','GHALORI':'GHAROLI','GITANJALI':'GEETANJALI','HNO':'HOUSE NO',\\\n",
    "            'HIMALYA':'HIMALAYA','HARGOBIND':'HARGOVIND','IP':'INDRAPRASTHA','JAMUNA':'YAMUNA','KH':'KHASRA','KS':'KHASRA','KN':'KHASRA','KHNO':'KHASRA','KONDLY':'KONDLI',\\\n",
    "            'LG':'LOWERGROUND','LL':'LOWERGROUND','LTD':'LIMITED','LIF':'LIG','LOOR':'FLOOR','MAYU':'MAYUR','MAND':'MANDIR','MANDER':'MANDIR','MAHABIR':'MAHAVIR'\\\n",
    "            ,'MANWABAN':'MANBHAWAN','MULTISTORE':'MULTI STOREY','MANSAROVER':'MANSAROVAR','NEWNO':'NEW NO','NUBMER':'NUMBER','NALAPAAR':'NALA PAAR',\\\n",
    "            'NAGARUJANA':'NAGARJUNA','OPP':'OPPOSITE','OTH':'OTHER','OLDNO':'OLD NO','OPPSITE':'OPPOSITE','PH':'PHASE','PKT':'POCKET','PNO':'PLOT NO','PCK':'POCKET','PVT':'PRIVATE','PROP':'PROPERTY','POKT':'POCKET','POCK':'POCKET','PLOY':'PLOT','POLT':'PLOT','PLOR':'PLOT','PRAK':'PARK','PKTA':'POCKET A','PLOAT':'PLOT','PCKET':'POCKET','PODHO':'PAUDHE','PLAOT':'PLOT','PLOTNO':'PLOT NO','PUADHE':'PAUDHE','PARVANA':'PARWANA','PANCHEEL':'PANCHSHEEL','PANSHEEL':'PANCHSHEEL','PRIYADARS':'PRIYADARSHINI','QTR':'QUARTERS','QRTS':'QUARTERS','QARTR':'QUARTERS','QUARTERS':'QUARTERS','RAJBLOC':'RAJ BLOCK','SEC':'SECTION','SAUD':'SAUDAGAR','SITA':'SITARAM','STNO':'STREET NO','SHADRA':'SHAHDARA','SRIRAM':'SHRIRAM','SHAHDRA':'SHAHDARA','SHEKHAR':'SHEKHER','SOCITIES':'SOCIETY','SADBHAWNA':'SADHBHAWNA','SADHBHAVNA':'SADHBHAWNA','SHIVMANDIR':'SHIV MANDIR','SHREEGANESH':'SHRIGANESH','SHALIMARPARK':'SHALIMAR PARK','TF':'THIRD FLOOR','TYP':'TYPE','TYPR':'TYPE','TRIVANI':'TRIVENI','TAKSHILA':'TAKSHSHILA','TECHNOLOG':'TECHNOLOGY','UG':'UPPERGROUND','UGF':'UPPERGROUND FLOOR','UPR':'UPPER','UPPAR':'UPPER','UCHEPAR':'UNCHEPAR','UTTRANCHA':'UTTRANCHAL','YUDHISTER':'YUDHISHTHIR','YUDISHTER':'YUDHISHTHIR','YUDHESTAR':'YUDHISHTHIR','YUDHISHTIR':'YUDHISHTHIR','YUDHISTHIR':'YUDHISHTHIR','C G H S':'APARTMENTS','GAUTAM SSHB GAMIL COM':' ','SHELLYKHATHURIA1994 GMAIL COM':' ','IGLDELHI GMAIL COM':' ','RATURI PRADEEP26 GMAIL COM':' ','I P':'INDRAPRASTHA','I P EXTENSION':'INDRAPRASTHA EXTENSION','PARK END':'PARKEND','EAST END':'EASTEND','VIGYAN LOK':'VIGYANLOK','ANAND LOK':'ANANDLOK','SANCHAR LOK':'SANCHARLOK','VIGYAPAN LOK':'VIGYAPANLOK','NAV JAGRITI':'NAVJAGRITI','NAV RACHNA':'NAVRACHNA','NAV BHARAT':'NAVBHARAT','SHANKAR PUR':'SHANKARPUR','TAHIR PUR':'TAHIRPUR','HASAN PUR':'HASANPUR','SEELAM PUR':'SEELAMPUR','SHIV PURI':'SHIVPURI','GURGA PURI':'DURGAPURI','TRILOK PURI':'TRILOKPURI','TIRLOK PURI':'TRILOKPURI','JAGAT PURI':'JAGATPURI','DWARIKA PURI':'DWARKAPURI','RIVER VIEW':'RIVERVIEW','LAKE VIEW':'LAKEVIEW','PARK VIEW':'PARKVIEW','SRI RAM':'SHRIRAM','SRI KRISHNA':'SHRIKRISHNA','SRI GURU':'SHRIGURU'\n",
    "            }\n",
    "repl_dict2 = {'APARTMENT':'APARTMENTS','BAZAR':'BAZAAR','RAMDAS':'RAMDASS','UNCHE':'UNCHEPAR','YOJANA':'YOJNA','SRESHTHA':'SHRESHTHA','DEPT':'DEPARTMENT','ENGINEERS':'ENGINEER','BARI':'BADI','RAVIDAS':'RAVIDASS','AGARSEN':'AGRASEN','MIX':'MIXED','NAVNITI':'NAVNEETI','GOURAV':'GAURAV','NOA':'NO','IGESI':'ESI','SIDHARTH':'SIDDHARTH','PARSHVA':'PARSHVANATH','MANAVASATHALI':'MANAVSTHALI','ASHISHWANG':'ASHISHWONG','KALLOL':'KALOL','TEACHER':'TEACHERS','VIKALPA':'VIKALP','TRILOK':'TRILOKYA','GRD':'GROUND','COMPUTER':'COMPUTERS','SISHU':'SHISHU','POLT':'PLOT','ASSOCIATED':'ASSOCIATE','SHEKHER':'SHEKHAR','BLK':'BLOCK','SHAHDRA':'SHAHDARA'}\n",
    "repl_dict3 = {'F/F':'FIRST','S/F':'SECOND','T/F':'THIRD','IST':'FIRST','3 ND':'THIRD','II ND':'SECOND','U G':'UPPERGROUND','GRD':'GROUND','BLOCK NO':'BLOCK','8 TH':'EIGHTH','11 TH':'ELEVENTH','15 TH':'FIFTEENTH','5 TH':'FIFTH','VF':'FIFTH FLOOR','V F':'FIFTH FLOOR','1 ST':'FIRST','IF':'FIRST FLOOR','I F':'FIRST FLOOR','FF':'FIRST FLOOR','F F':'FIRST FLOOR','FL':'FLOOR','FLR':'FLOOR','FLOR':'FLOOR','48 TH':'FORTYEIGHTH','14 TH':'FOURTEENTH','4 TH':'FOURTH','IVF':'FOURTH FLOOR','IV F':'FOURTH FLOOR','GF':'GROUND FLOOR','G F':'GROUND FLOOR','FALT':'HOUSE NO','FLT':'HOUSE NO','FLOT':'HOUSE NO','COMPOUNDNO':'HOUSE NO','FNO':'HOUSE NO','FLATNO':'HOUSE NO','HNO':'HOUSE NO','ROOMNO':'HOUSE NO','FL NO':'HOUSE NO','FLAT NO':'HOUSE NO','H NO':'HOUSE NO','F NO':'HOUSE NO','ROOM NO':'HOUSE NO','FLAT':'HOUSE NO','HN':'HOUSE NO','HOUSENO':'HOUSE NO','PROPNO':'HOUSE NO','SHOPNO':'HOUSE NO','FTNO':'HOUSE NO','SNO':'HOUSE NO','PVTNO':'HOUSE NO','FLATE':'HOUSE NO','HO NOB':'HOUSE NO B','H NOC':'HOUSE NO C','KHASRA NO':'KHASRA','KH NO':'KHASRA','K NO':'KHASRA','KILLA NO':'KHASRA','LGF':'LOWERGROUND FLOOR','LG F':'LOWERGROUND FLOOR','L GF':'LOWERGROUND FLOOR','NEW NO':'NEW','19 TH':'NINETEENTH','9 TH':'NINTH','90 TH':'NINTIETH','OLDNO':'OLD','OLD NO':'OLD','PARK NO':'PARK','PLOTNO':'PLOT','PLOT NO':'PLOT','P NO':'PLOT','PNO':'PLOT','POLT':'PLOT','PN':'PLOT','PLOR':'PLOT','PLOY':'PLOT','PLOAT':'PLOT','PLAOT':'PLOT','PLT':'PLOT','2 ND':'SECOND','IIF':'SECOND FLOOR','II F':'SECOND FLOOR','SF':'SECOND FLOOR','S F':'SECOND FLOOR','7 TH':'SEVENTH','VIIF':'SEVENTH FLOOR','VII F':'SEVENTH FLOOR','16 TH':'SIXTEENTH','6 TH':'SIXTH','VIF':'SIXTH FLOOR','VI F':'SIXTH FLOOR','60 TH':'SIXTIETH','GALNO':'STREET','GALINO':'STREET','STNO':'STREET','GALI NO':'STREET','STREET NO':'STREET','LANE NO':'STREET','GALI':'STREET','GLII':'STREET','GLI':'STREET','GNO':'STREET','GN':'STREET','G NO':'STREET','STREETNO':'STREET','GATENO':'STREET','10 TH':'TENTH','3 RD':'THIRD','IIIF':'THIRD FLOOR','III F':'THIRD FLOOR','TF':'THIRD FLOOR','T F':'THIRD FLOOR','THF':'THIRD FLOOR','TH F':'THIRD FLOOR','RDFLOOR':'THIRD FLOOR','THFLOOR':'THIRD FLOOR','13 TH':'THIRTEENTH','30 TH':'THIRTIETH','38 TH':'THIRTYEIGHTH','TOWER NO':'TOWER','12 TH':'TWELFTH','UGF':'UPPERGROUND FLOOR','UG F':'UPPERGROUND FLOOR','U GF':'UPPERGROUND FLOOR','11 ST':'ELEVENTH','12 ND':'TWELFTH','13 RD':'THIRTEENTH','17 TH':'SEVENTEENTH','18 TH':'EIGHTEENTH','20 TH':'TWENTIETH','21 ST':'TWENTYFIRST','22 ND':'TWENTYSECOND','23 RD':'TWENTYTHIRD','24 TH':'TWENTYFOURTH','25 TH':'TWENTYFIFTH','26 TH':'TWENTYSIXTH','27 TH':'TWENTYSEVENTH','28 TH':'TWENTYEIGHTH','29 TH':'TWENTYNINTH','31 ST':'THIRTYFIRST','32 ND':'THIRTYSECOND','33 RD':'THIRTYTHIRD','34 TH':'THIRTYFOURTH','35 TH':'THIRTYFIFTH','36 TH':'THIRTYSIXTH','37 TH':'THIRTYSEVENTH','39 TH':'THIRTYNINTH','40 TH':'FORTIETH','41 ST':'FORTYFIRST','42 ND':'FORTYSECOND','43 RD':'FORTYTHIRD','44 TH':'FORTYFOURTH','45 TH':'FORTYFIFTH','46 TH':'FORTYSIXTH','47 TH':'FORTYSEVENTH','49 TH':'FORTYNINTH','50 TH':'FIFTIETH','51 ST':'FIFTYFIRST','52 ND':'FIFTYSECOND','53 RD':'FIFTYTHIRD','54 TH':'FIFTYFOURTH','55 TH':'FIFTYFIFTH','56 TH':'FIFTYSIXTH','57 TH':'FIFTYSEVENTH','58 TH':'FIFTYEIGHTH','59 TH':'FIFTYNINTH','61 ST':'SIXTYFIRST','62 ND':'SIXTYSECOND','63 RD':'SIXTYTHIRD','64 TH':'SIXTYFOURTH','65 TH':'SIXTYFIFTH','66 TH':'SIXTYSIXTH','67 TH':'SIXTYSEVENTH','68 TH':'SIXTYEIGHTH','69 TH':'SIXTYNINTH','70 TH':'SEVENTIETH','71 ST':'SEVENTYFIRST','72 ND':'SEVENTYSECOND','73 RD':'SEVENTYTHIRD','74 TH':'SEVENTYFOURTH','75 TH':'SEVENTYFIFTH','76 TH':'SEVENTYSIXTH','77 TH':'SEVENTYSEVENTH','78 TH':'SEVENTYEIGHTH','79 TH':'SEVENTYNINTH','80 TH':'EIGHTIETH','81 ST':'EIGHTYFIRST','82 ND':'EIGHTYSECOND','83 RD':'EIGHTYTHIRD','84 TH':'EIGHTYFOURTH','85 TH':'EIGHTYFIFTH','86 TH':'EIGHTYSIXTH','87 TH':'EIGHTYSEVENTH','88 TH':'EIGHTYEIGHTH','89 TH':'EIGHTYNINTH','90 TH':'NINETIETH','91 ST':'NINETYFIRST','92 ND':'NINETYSECOND','93 RD':'NINETYTHIRD','94 TH':'NINETYFOURTH','95 TH':'NINETYFIFTH','96 TH':'NINETYSIXTH','97 TH':'NINETYSEVENTH','98 TH':'NINETYEIGHTH','99 TH':'NINETYNINTH','100 TH':'HUNDREDTH','1ST':'FIRST','2ND':'SECOND','3RD':'THIRD','4TH':'FOURTH','5TH':'FIFTH','6TH':'SIXTH','7TH':'SEVENTH','8TH':'EIGHTH','9TH':'NINTH','10TH':'TENTH','11TH':'ELEVENTH','12TH':'TWELFTH','13TH':'THIRTEENTH','14TH':'FOURTEENTH','15TH':'FIFTEENTH','16TH':'SIXTEENTH','17TH':'SEVENTEENTH','18TH':'EIGHTEENTH','19TH':'NINETEENTH','20TH':'TWENTIETH','21ST':'TWENTYFIRST','22ND':'TWENTYSECOND','23RD':'TWENTYTHIRD','24TH':'TWENTYFOURTH','25TH':'TWENTYFIFTH','26TH':'TWENTYSIXTH','27TH':'TWENTYSEVENTH','28TH':'TWENTYEIGHTH','29TH':'TWENTYNINTH','30TH':'THIRTIETH','31ST':'THIRTYFIRST','32ND':'THIRTYSECOND','33RD':'THIRTYTHIRD','34TH':'THIRTYFOURTH','35TH':'THIRTYFIFTH','36TH':'THIRTYSIXTH','37TH':'THIRTYSEVENTH','38TH':'THIRTYEIGHTH','39TH':'THIRTYNINTH','40TH':'FORTIETH','41ST':'FORTYFIRST','42ND':'FORTYSECOND','43RD':'FORTYTHIRD','44TH':'FORTYFOURTH','45TH':'FORTYFIFTH','46TH':'FORTYSIXTH','47TH':'FORTYSEVENTH','48TH':'FORTYEIGHTH','49TH':'FORTYNINTH','50TH':'FIFTIETH','51ST':'FIFTYFIRST','52ND':'FIFTYSECOND','53RD':'FIFTYTHIRD','54TH':'FIFTYFOURTH','55TH':'FIFTYFIFTH','56TH':'FIFTYSIXTH','57TH':'FIFTYSEVENTH','58TH':'FIFTYEIGHTH','59TH':'FIFTYNINTH','60TH':'SIXTIETH','61TH':'SIXTYFIRST','62ND':'SIXTYSECOND','63RD':'SIXTYTHIRD','64TH':'SIXTYFOURTH','65TH':'SIXTYFIFTH','66TH':'SIXTYSIXTH','67TH':'SIXTYSEVENTH','68TH':'SIXTYEIGHTH','69TH':'SIXTYNINTH','70TH':'SEVENTIETH','71ST':'SEVENTYFIRST','72ND':'SEVENTYSECOND','73RD':'SEVENTYTHIRD','74TH':'SEVENTYFOURTH','75TH':'SEVENTYFIFTH','76TH':'SEVENTYSIXTH','77TH':'SEVENTYSEVENTH','78TH':'SEVENTYEIGHTH','79TH':'SEVENTYNINTH','80TH':'EIGHTIETH','81ST':'EIGHTYFIRST','82ND':'EIGHTYSECOND','83RD':'EIGHTYTHIRD','84TH':'EIGHTYFOURTH','85TH':'EIGHTYFIFTH','86TH':'EIGHTYSIXTH','87TH':'EIGHTYSEVENTH','88TH':'EIGHTYEIGHTH','89TH':'EIGHTYNINTH','90TH':'NINETIETH','91ST':'NINETYFIRST','92ND':'NINETYSECOND','93RD':'NINETYTHIRD','94TH':'NINETYFOURTH','95TH':'NINETYFIFTH','96TH':'NINETYSIXTH','97TH':'NINETYSEVENTH','98TH':'NINETYEIGHTH','99TH':'NINETYNINTH','100TH':'HUNDREDTH'}\n",
    "repl_dict = {}\n",
    "repl_dict.update(repl_dict0)\n",
    "repl_dict.update(repl_dict1)\n",
    "repl_dict.update(repl_dict2)\n",
    "repl_dict.update(repl_dict3)\n",
    "repl_dict.update(plot_dict)\n",
    "repl_dict.update(street_dict)\n",
    "len(repl_dict)"
   ]
  },
  {
   "cell_type": "markdown",
   "metadata": {},
   "source": [
    "## <font color=aqua>Func to remove unwanted words from corpus</font>"
   ]
  },
  {
   "cell_type": "code",
   "execution_count": 11,
   "metadata": {},
   "outputs": [],
   "source": [
    "def remov_list(frame, col):\n",
    "    frame[col] = frame[col].astype(str)\n",
    "    for word in tqdm(rem_list, desc=\"ADDRESS processed\", colour='green'):\n",
    "        frame[col] = frame[col].str.replace(f'{word}', \"\")"
   ]
  },
  {
   "cell_type": "markdown",
   "metadata": {},
   "source": [
    "## <font color=aqua>Check for word ID</font>"
   ]
  },
  {
   "cell_type": "code",
   "execution_count": 12,
   "metadata": {},
   "outputs": [],
   "source": [
    "def word_id(word):\n",
    "    word = word.upper()\n",
    "    if word in plot_list:\n",
    "        return 'PLOT MARKER'\n",
    "    elif word in street_list:\n",
    "        return 'STREET MARKER'\n",
    "    elif word in FLOOR_list:\n",
    "        return 'FLOOR MARKER'"
   ]
  },
  {
   "cell_type": "markdown",
   "metadata": {},
   "source": [
    "## <font color=aqua>To fetch words before and after a word in a string <font color=red >(sir's code)</font></font>"
   ]
  },
  {
   "cell_type": "code",
   "execution_count": 13,
   "metadata": {},
   "outputs": [],
   "source": [
    "def fetch_word_bef_aft_string(kw,str1,mode=0):\n",
    "    b = ''\n",
    "    a = ''\n",
    "    loc = ''\n",
    "    try:\n",
    "\n",
    "        ix = str1.find(kw)\n",
    "        l = len(kw)\n",
    "        ch_b = ''\n",
    "        ch_a = ''\n",
    "\n",
    "        if ix == -1:\n",
    "            b = ''\n",
    "            a = ''\n",
    "            loc = 'N'\n",
    "        elif l == len(str1):\n",
    "            b = ''\n",
    "            a = ''\n",
    "            loc = 'S'\n",
    "        elif ix == 0:\n",
    "            b = ''\n",
    "            ch_a = str1[ix+l]\n",
    "            loc = 'S'\n",
    "            if ch_a == ' ':\n",
    "                a = kw + ' ' + str1[ix+l:].split()[0]\n",
    "            else:\n",
    "                if str1.find(' ') != -1:\n",
    "                    a = kw + str1[ix+l:str1.find(' ')]\n",
    "                else:\n",
    "                    a = kw + str1[ix+l:]\n",
    "        elif ix + l == len(str1):\n",
    "            a = ''\n",
    "            loc = 'E'\n",
    "            ch_b = str1[ix-1]\n",
    "            if ch_b == ' ':\n",
    "                b = str1[:ix].split()[-1] + ' ' + kw\n",
    "            else:\n",
    "                if str1[:ix].rfind(' ') != -1:\n",
    "                    b = str1[str1[:ix].rfind(' ')+1:ix] + kw\n",
    "                else:\n",
    "                    b = str1[:ix]+kw\n",
    "        else:\n",
    "            ch_b = str1[ix-1]\n",
    "            ch_a = str1[ix+l]\n",
    "            loc = 'M'\n",
    "            if ch_a == ' ':\n",
    "                if ch_b == ' ':\n",
    "                    b = b = str1[:ix].split()[-1] + ' ' + kw\n",
    "                    a = kw + ' ' + str1[ix+l:].split()[0]\n",
    "                else:\n",
    "                    b = str1[str1[:ix].rfind(' ')+1:ix] + kw\n",
    "                    a = str1[str1[:ix].rfind(' ')+1:ix] + \\\n",
    "                        kw + ' ' + str1[ix+l:].split()[0]\n",
    "            else:\n",
    "                if ch_b == ' ':\n",
    "                    b = str1[:ix].split()[-1] + ' ' + kw + \\\n",
    "                        str1[ix+l:str1[ix+l:].find(' ')+ix+l]\n",
    "                    a = kw + str1[ix+l:str1[ix+l:].find(' ')+ix+l]\n",
    "                else:\n",
    "                    b = str1[str1[:ix].rfind(' ')+1:ix] + kw + \\\n",
    "                        str1[ix+l:str1[ix+l:].find(' ')+ix+l]\n",
    "                    a = str1[str1[:ix].rfind(' ')+1:ix] + kw + \\\n",
    "                        str1[ix+l:str1[ix+l:].find(' ')+ix+l]\n",
    "    except:\n",
    "        pass\n",
    "    \n",
    "    if mode==1:\n",
    "        return b, a, loc\n",
    "    else:\n",
    "        return b, a"
   ]
  },
  {
   "cell_type": "markdown",
   "metadata": {},
   "source": [
    "## <font color=aqua>To fetch address markers from an address <font color=red>(sir's code variant + personal)</font></font>"
   ]
  },
  {
   "cell_type": "code",
   "execution_count": 14,
   "metadata": {},
   "outputs": [],
   "source": [
    "############################ Fetch House number ############################\n",
    "def fetch_PLOT(z):\n",
    "    pattern = re.compile(r\"(\\s+([0-9]+\\s+)+)\", re.IGNORECASE)\n",
    "    z = \"temp \"+z\n",
    "    extracted_substring = re.search(pattern, z)\n",
    "    if extracted_substring == None:\n",
    "        return None\n",
    "    else:\n",
    "        extracted_substring = extracted_substring.group()\n",
    "    return extracted_substring\n",
    "\n",
    "\n",
    "############################ Fetch Floor ############################\n",
    "def fetch_FLOOR(add):\n",
    "    try:\n",
    "        if fetch_word_bef_aft_string('FLOOR',add,mode=1)[2]!='S':\n",
    "            out = fetch_word_bef_aft_string('FLOOR',add)[0]\n",
    "            return out.split()[0], ' '.join([x for x in add.split() if x not in (out.split())])\n",
    "        else:\n",
    "            out = fetch_word_bef_aft_string('FLOOR',add)[1]\n",
    "            return out.split()[-1], ' '.join([x for x in add.split() if x not in (out.split())])\n",
    "    except:\n",
    "        return None,' '.join([x for x in add.split() if x != 'FLOOR'])\n",
    "    \n",
    "############################ Fetch Street ############################\n",
    "def fetch_STREET(add):\n",
    "    try:\n",
    "        out = fetch_word_bef_aft_string('STREET',add)[1]\n",
    "        if (out.split()[-1]).isdigit()==True:\n",
    "            return out.split()[-1], ' '.join([x for x in add.split() if x not in (out.split())])\n",
    "        else:\n",
    "            out2 = fetch_word_bef_aft_string('STREET',add)[0]\n",
    "            return out2.split()[0], ' '.join([x for x in add.split() if x not in (out2.split())])\n",
    "            \n",
    "    except:\n",
    "        return None,' '.join([x for x in add.split() if x != 'STREET'])\n",
    "    \n",
    "############################ Fetch Pocket ############################\n",
    "def fetch_POCKET(add):\n",
    "    try:\n",
    "        out = fetch_word_bef_aft_string('POCKET',add)[1]\n",
    "        return out.split()[-1], ' '.join([x for x in add.split() if x not in (out.split())])            \n",
    "    except:\n",
    "        return None,' '.join([x for x in add.split() if x != 'POCKET'])\n",
    "############################ Fetch Block ############################\n",
    "def fetch_BLOCK(add):\n",
    "    try:\n",
    "        out = fetch_word_bef_aft_string('BLOCK',add)[1]\n",
    "        if len(out.split()[-1])<=2:\n",
    "            return out.split()[-1], ' '.join([x for x in add.split() if x not in (out.split())])\n",
    "        else:\n",
    "            out2 = fetch_word_bef_aft_string('BLOCK',add)[0]\n",
    "            return out2.split()[0], ' '.join([x for x in add.split() if x not in (out2.split())])\n",
    "    except:\n",
    "        return None,' '.join([x for x in add.split() if x != 'BLOCK'])"
   ]
  },
  {
   "attachments": {},
   "cell_type": "markdown",
   "metadata": {},
   "source": [
    " ."
   ]
  },
  {
   "attachments": {},
   "cell_type": "markdown",
   "metadata": {},
   "source": [
    " ."
   ]
  },
  {
   "attachments": {},
   "cell_type": "markdown",
   "metadata": {},
   "source": [
    "."
   ]
  },
  {
   "attachments": {},
   "cell_type": "markdown",
   "metadata": {},
   "source": [
    "# <font size=\"10\" color=red>Main Code</font>"
   ]
  },
  {
   "attachments": {},
   "cell_type": "markdown",
   "metadata": {},
   "source": [
    "## <font color = aqua>Reading Dataset and creating Dataframe</font>"
   ]
  },
  {
   "cell_type": "code",
   "execution_count": 18,
   "metadata": {},
   "outputs": [
    {
     "data": {
      "text/html": [
       "<div>\n",
       "<style scoped>\n",
       "    .dataframe tbody tr th:only-of-type {\n",
       "        vertical-align: middle;\n",
       "    }\n",
       "\n",
       "    .dataframe tbody tr th {\n",
       "        vertical-align: top;\n",
       "    }\n",
       "\n",
       "    .dataframe thead th {\n",
       "        text-align: right;\n",
       "    }\n",
       "</style>\n",
       "<table border=\"1\" class=\"dataframe\">\n",
       "  <thead>\n",
       "    <tr style=\"text-align: right;\">\n",
       "      <th></th>\n",
       "      <th>SDO_CD</th>\n",
       "      <th>CA_NO</th>\n",
       "      <th>ADDRESS_ORG</th>\n",
       "    </tr>\n",
       "  </thead>\n",
       "  <tbody>\n",
       "    <tr>\n",
       "      <th>0</th>\n",
       "      <td>1211</td>\n",
       "      <td>101363856.0</td>\n",
       "      <td>#, EXTN,478 KALANDER KOLONY, DILSHAD GARDEN, SHAHDARA, NEAR RED CROSS HOSPITAL, 110095</td>\n",
       "    </tr>\n",
       "    <tr>\n",
       "      <th>1</th>\n",
       "      <td>1211</td>\n",
       "      <td>101296041.0</td>\n",
       "      <td>#, 1438-A-45 GALI-4, #, BALBIR NAGAR EXTN SHAHDARA, #, 110032</td>\n",
       "    </tr>\n",
       "    <tr>\n",
       "      <th>2</th>\n",
       "      <td>1211</td>\n",
       "      <td>101358487.0</td>\n",
       "      <td>#, 1/5484 GALI NO-17, #, BALBIR NAGAR EXTN, #, 110032</td>\n",
       "    </tr>\n",
       "    <tr>\n",
       "      <th>3</th>\n",
       "      <td>1211</td>\n",
       "      <td>101358755.0</td>\n",
       "      <td>#, 1/6221 GALI NO-4, #, EAST ROHTASH NAGAR SHAHDARA, #, 110032</td>\n",
       "    </tr>\n",
       "    <tr>\n",
       "      <th>4</th>\n",
       "      <td>1211</td>\n",
       "      <td>101220086.0</td>\n",
       "      <td>T-10, #, #, NAVEEN SHAHDARA, #, 110032</td>\n",
       "    </tr>\n",
       "  </tbody>\n",
       "</table>\n",
       "</div>"
      ],
      "text/plain": [
       "   SDO_CD        CA_NO  \\\n",
       "0    1211  101363856.0   \n",
       "1    1211  101296041.0   \n",
       "2    1211  101358487.0   \n",
       "3    1211  101358755.0   \n",
       "4    1211  101220086.0   \n",
       "\n",
       "                                                                              ADDRESS_ORG  \n",
       "0  #, EXTN,478 KALANDER KOLONY, DILSHAD GARDEN, SHAHDARA, NEAR RED CROSS HOSPITAL, 110095  \n",
       "1                           #, 1438-A-45 GALI-4, #, BALBIR NAGAR EXTN SHAHDARA, #, 110032  \n",
       "2                                   #, 1/5484 GALI NO-17, #, BALBIR NAGAR EXTN, #, 110032  \n",
       "3                          #, 1/6221 GALI NO-4, #, EAST ROHTASH NAGAR SHAHDARA, #, 110032  \n",
       "4                                                  T-10, #, #, NAVEEN SHAHDARA, #, 110032  "
      ]
     },
     "execution_count": 18,
     "metadata": {},
     "output_type": "execute_result"
    }
   ],
   "source": [
    "df = pd.read_csv(r\"..\\DATA\\NE_Circle_consumer_mas.txt\",sep=\"\\t\",header = 0)\n",
    "df[\"ADDRESS_ORG\"]=df[\"ADDRESS\"].apply(lambda z: str(z).upper())\n",
    "df.drop(['ADDRESS'],axis=1,inplace=True)\n",
    "df.head()"
   ]
  },
  {
   "cell_type": "markdown",
   "metadata": {},
   "source": [
    "."
   ]
  },
  {
   "attachments": {},
   "cell_type": "markdown",
   "metadata": {},
   "source": [
    "## <font color = aqua> Data Cleaning</font>"
   ]
  },
  {
   "cell_type": "code",
   "execution_count": 19,
   "metadata": {},
   "outputs": [
    {
     "data": {
      "text/html": [
       "<div>\n",
       "<style scoped>\n",
       "    .dataframe tbody tr th:only-of-type {\n",
       "        vertical-align: middle;\n",
       "    }\n",
       "\n",
       "    .dataframe tbody tr th {\n",
       "        vertical-align: top;\n",
       "    }\n",
       "\n",
       "    .dataframe thead th {\n",
       "        text-align: right;\n",
       "    }\n",
       "</style>\n",
       "<table border=\"1\" class=\"dataframe\">\n",
       "  <thead>\n",
       "    <tr style=\"text-align: right;\">\n",
       "      <th></th>\n",
       "      <th>SDO_CD</th>\n",
       "      <th>CA_NO</th>\n",
       "      <th>ADDRESS_ORG</th>\n",
       "      <th>ADDRESS</th>\n",
       "    </tr>\n",
       "  </thead>\n",
       "  <tbody>\n",
       "    <tr>\n",
       "      <th>0</th>\n",
       "      <td>1211</td>\n",
       "      <td>101363856.0</td>\n",
       "      <td>#, EXTN,478 KALANDER KOLONY, DILSHAD GARDEN, SHAHDARA, NEAR RED CROSS HOSPITAL, 110095</td>\n",
       "      <td>#, EXTN, 478 KALANDER KOLONY, DILSHAD GARDEN, SHAHDARA, NEAR RED CROSS HOSPITAL, 110095</td>\n",
       "    </tr>\n",
       "    <tr>\n",
       "      <th>1</th>\n",
       "      <td>1211</td>\n",
       "      <td>101296041.0</td>\n",
       "      <td>#, 1438-A-45 GALI-4, #, BALBIR NAGAR EXTN SHAHDARA, #, 110032</td>\n",
       "      <td>#, 1438 -A- 45 GALI- 4 , #, BALBIR NAGAR EXTN SHAHDARA, #, 110032</td>\n",
       "    </tr>\n",
       "    <tr>\n",
       "      <th>2</th>\n",
       "      <td>1211</td>\n",
       "      <td>101358487.0</td>\n",
       "      <td>#, 1/5484 GALI NO-17, #, BALBIR NAGAR EXTN, #, 110032</td>\n",
       "      <td>#, 1 / 5484 GALI NO- 17 , #, BALBIR NAGAR EXTN, #, 110032</td>\n",
       "    </tr>\n",
       "    <tr>\n",
       "      <th>3</th>\n",
       "      <td>1211</td>\n",
       "      <td>101358755.0</td>\n",
       "      <td>#, 1/6221 GALI NO-4, #, EAST ROHTASH NAGAR SHAHDARA, #, 110032</td>\n",
       "      <td>#, 1 / 6221 GALI NO- 4 , #, EAST ROHTASH NAGAR SHAHDARA, #, 110032</td>\n",
       "    </tr>\n",
       "    <tr>\n",
       "      <th>4</th>\n",
       "      <td>1211</td>\n",
       "      <td>101220086.0</td>\n",
       "      <td>T-10, #, #, NAVEEN SHAHDARA, #, 110032</td>\n",
       "      <td>T- 10 , #, #, NAVEEN SHAHDARA, #, 110032</td>\n",
       "    </tr>\n",
       "  </tbody>\n",
       "</table>\n",
       "</div>"
      ],
      "text/plain": [
       "   SDO_CD        CA_NO  \\\n",
       "0    1211  101363856.0   \n",
       "1    1211  101296041.0   \n",
       "2    1211  101358487.0   \n",
       "3    1211  101358755.0   \n",
       "4    1211  101220086.0   \n",
       "\n",
       "                                                                              ADDRESS_ORG  \\\n",
       "0  #, EXTN,478 KALANDER KOLONY, DILSHAD GARDEN, SHAHDARA, NEAR RED CROSS HOSPITAL, 110095   \n",
       "1                           #, 1438-A-45 GALI-4, #, BALBIR NAGAR EXTN SHAHDARA, #, 110032   \n",
       "2                                   #, 1/5484 GALI NO-17, #, BALBIR NAGAR EXTN, #, 110032   \n",
       "3                          #, 1/6221 GALI NO-4, #, EAST ROHTASH NAGAR SHAHDARA, #, 110032   \n",
       "4                                                  T-10, #, #, NAVEEN SHAHDARA, #, 110032   \n",
       "\n",
       "                                                                                   ADDRESS  \n",
       "0  #, EXTN, 478 KALANDER KOLONY, DILSHAD GARDEN, SHAHDARA, NEAR RED CROSS HOSPITAL, 110095  \n",
       "1                        #, 1438 -A- 45 GALI- 4 , #, BALBIR NAGAR EXTN SHAHDARA, #, 110032  \n",
       "2                                #, 1 / 5484 GALI NO- 17 , #, BALBIR NAGAR EXTN, #, 110032  \n",
       "3                       #, 1 / 6221 GALI NO- 4 , #, EAST ROHTASH NAGAR SHAHDARA, #, 110032  \n",
       "4                                                 T- 10 , #, #, NAVEEN SHAHDARA, #, 110032  "
      ]
     },
     "execution_count": 19,
     "metadata": {},
     "output_type": "execute_result"
    }
   ],
   "source": [
    "############################ Manually removing visible garbage values ############################\n",
    "df.drop(index=[112925],axis=\"index\",inplace=True)\n",
    "\n",
    "############################ Checking and handling null in the dataframe ############################\n",
    "for c in df.select_dtypes(float):\n",
    "    df[c] = df[c].fillna(0)\n",
    "    \n",
    "############################ Inserting space between numerals and characters ############################\n",
    "df['ADDRESS'] = df['ADDRESS_ORG'].apply(lambda x: insert_spaces(r'[0-9]+',x))\n",
    "\n",
    "df.head()"
   ]
  },
  {
   "cell_type": "code",
   "execution_count": 17,
   "metadata": {},
   "outputs": [
    {
     "data": {
      "text/html": [
       "<div>\n",
       "<style scoped>\n",
       "    .dataframe tbody tr th:only-of-type {\n",
       "        vertical-align: middle;\n",
       "    }\n",
       "\n",
       "    .dataframe tbody tr th {\n",
       "        vertical-align: top;\n",
       "    }\n",
       "\n",
       "    .dataframe thead th {\n",
       "        text-align: right;\n",
       "    }\n",
       "</style>\n",
       "<table border=\"1\" class=\"dataframe\">\n",
       "  <thead>\n",
       "    <tr style=\"text-align: right;\">\n",
       "      <th></th>\n",
       "      <th>SDO_CD</th>\n",
       "      <th>CA_NO</th>\n",
       "      <th>ADDRESS_ORG</th>\n",
       "      <th>ADDRESS</th>\n",
       "      <th>PLOT</th>\n",
       "      <th>FLOOR</th>\n",
       "      <th>BLOCK</th>\n",
       "      <th>STREET</th>\n",
       "      <th>POCKET</th>\n",
       "      <th>PINCODE</th>\n",
       "    </tr>\n",
       "  </thead>\n",
       "  <tbody>\n",
       "    <tr>\n",
       "      <th>0</th>\n",
       "      <td>1211</td>\n",
       "      <td>101363856.0</td>\n",
       "      <td>EXTN 478 KALANDER COLONY CLONI  KOLONY DILSHAD GARDEN  SHAHDARA  NEAR RED CROSS HOSPITAL  110095</td>\n",
       "      <td>EXTN  478 KALANDER COLONY CLONI  KOLONY DILSHAD GARDEN  SHAHDARA  NEAR RED CROSS HOSPITAL</td>\n",
       "      <td>None</td>\n",
       "      <td>None</td>\n",
       "      <td>None</td>\n",
       "      <td>None</td>\n",
       "      <td>None</td>\n",
       "      <td>110095</td>\n",
       "    </tr>\n",
       "    <tr>\n",
       "      <th>1</th>\n",
       "      <td>1211</td>\n",
       "      <td>101296041.0</td>\n",
       "      <td>1438-A-45 GALI-4     BALBIR NAGAR EXTN SHAHDARA     110032</td>\n",
       "      <td>1438  A  45 GALI  4      BALBIR NAGAR EXTN SHAHDARA</td>\n",
       "      <td>None</td>\n",
       "      <td>None</td>\n",
       "      <td>None</td>\n",
       "      <td>None</td>\n",
       "      <td>None</td>\n",
       "      <td>110032</td>\n",
       "    </tr>\n",
       "    <tr>\n",
       "      <th>2</th>\n",
       "      <td>1211</td>\n",
       "      <td>101358487.0</td>\n",
       "      <td>1/5484 GALI NO-17     BALBIR NAGAR EXTN     110032</td>\n",
       "      <td>1   5484 GALI NO  17      BALBIR NAGAR EXTN</td>\n",
       "      <td>None</td>\n",
       "      <td>None</td>\n",
       "      <td>None</td>\n",
       "      <td>None</td>\n",
       "      <td>None</td>\n",
       "      <td>110032</td>\n",
       "    </tr>\n",
       "    <tr>\n",
       "      <th>3</th>\n",
       "      <td>1211</td>\n",
       "      <td>101358755.0</td>\n",
       "      <td>1/6221 GALI NO-4     EAST ROHTASH NAGAR SHAHDARA     110032</td>\n",
       "      <td>1   6221 GALI NO  4      EAST ROHTASH NAGAR SHAHDARA</td>\n",
       "      <td>None</td>\n",
       "      <td>None</td>\n",
       "      <td>None</td>\n",
       "      <td>None</td>\n",
       "      <td>None</td>\n",
       "      <td>110032</td>\n",
       "    </tr>\n",
       "    <tr>\n",
       "      <th>4</th>\n",
       "      <td>1211</td>\n",
       "      <td>101220086.0</td>\n",
       "      <td>T-10        NAVEEN SHAHDARA     110032</td>\n",
       "      <td>T  10         NAVEEN SHAHDARA</td>\n",
       "      <td>None</td>\n",
       "      <td>None</td>\n",
       "      <td>None</td>\n",
       "      <td>None</td>\n",
       "      <td>None</td>\n",
       "      <td>110032</td>\n",
       "    </tr>\n",
       "  </tbody>\n",
       "</table>\n",
       "</div>"
      ],
      "text/plain": [
       "   SDO_CD        CA_NO  \\\n",
       "0    1211  101363856.0   \n",
       "1    1211  101296041.0   \n",
       "2    1211  101358487.0   \n",
       "3    1211  101358755.0   \n",
       "4    1211  101220086.0   \n",
       "\n",
       "                                                                                           ADDRESS_ORG  \\\n",
       "0     EXTN 478 KALANDER COLONY CLONI  KOLONY DILSHAD GARDEN  SHAHDARA  NEAR RED CROSS HOSPITAL  110095   \n",
       "1                                           1438-A-45 GALI-4     BALBIR NAGAR EXTN SHAHDARA     110032   \n",
       "2                                                   1/5484 GALI NO-17     BALBIR NAGAR EXTN     110032   \n",
       "3                                          1/6221 GALI NO-4     EAST ROHTASH NAGAR SHAHDARA     110032   \n",
       "4                                                               T-10        NAVEEN SHAHDARA     110032   \n",
       "\n",
       "                                                                                          ADDRESS  \\\n",
       "0     EXTN  478 KALANDER COLONY CLONI  KOLONY DILSHAD GARDEN  SHAHDARA  NEAR RED CROSS HOSPITAL     \n",
       "1                                        1438  A  45 GALI  4      BALBIR NAGAR EXTN SHAHDARA        \n",
       "2                                                1   5484 GALI NO  17      BALBIR NAGAR EXTN        \n",
       "3                                       1   6221 GALI NO  4      EAST ROHTASH NAGAR SHAHDARA        \n",
       "4                                                              T  10         NAVEEN SHAHDARA        \n",
       "\n",
       "   PLOT FLOOR BLOCK STREET POCKET PINCODE  \n",
       "0  None  None  None   None   None  110095  \n",
       "1  None  None  None   None   None  110032  \n",
       "2  None  None  None   None   None  110032  \n",
       "3  None  None  None   None   None  110032  \n",
       "4  None  None  None   None   None  110032  "
      ]
     },
     "execution_count": 17,
     "metadata": {},
     "output_type": "execute_result"
    }
   ],
   "source": [
    "############################ Replacing all special characters with space ############################\n",
    "df['ADDRESS_ORG'] = df['ADDRESS_ORG'].apply(lambda x: x.replace(\"\\\\\",\"/\"))\n",
    "df[\"ADDRESS_ORG\"] = df[\"ADDRESS_ORG\"].apply(lambda z:re.sub('[^A-Za-z0-9-/]', ' ', str(z)))\n",
    "df[\"ADDRESS\"] = df[\"ADDRESS\"].apply(lambda z:re.sub('[^A-Za-z0-9]', ' ', str(z)))\n",
    "df[\"ADDRESS_ORG\"] = df[\"ADDRESS_ORG\"].apply(lambda z:re.sub(r'\\s*([-/])\\s*', r'\\1', str(z)))\n",
    "\n",
    "############################ Creating address part markers ############################\n",
    "df[\"PLOT\"] = df['FLOOR'] = df['BLOCK'] = df['STREET'] = df[\"POCKET\"] = None\n",
    "\n",
    "############################ Moving pincodes to another column ############################\n",
    "reg=re.compile(r'(1100\\d\\d)')\n",
    "extract_pin(df,\"ADDRESS\",\"PINCODE\",reg)\n",
    "\n",
    "############################ Validating Data samples ############################\n",
    "df.head()"
   ]
  },
  {
   "cell_type": "code",
   "execution_count": 105,
   "metadata": {},
   "outputs": [
    {
     "data": {
      "text/html": [
       "<div>\n",
       "<style scoped>\n",
       "    .dataframe tbody tr th:only-of-type {\n",
       "        vertical-align: middle;\n",
       "    }\n",
       "\n",
       "    .dataframe tbody tr th {\n",
       "        vertical-align: top;\n",
       "    }\n",
       "\n",
       "    .dataframe thead th {\n",
       "        text-align: right;\n",
       "    }\n",
       "</style>\n",
       "<table border=\"1\" class=\"dataframe\">\n",
       "  <thead>\n",
       "    <tr style=\"text-align: right;\">\n",
       "      <th></th>\n",
       "      <th>SDO_CD</th>\n",
       "      <th>CA_NO</th>\n",
       "      <th>ADDRESS_ORG</th>\n",
       "      <th>ADDRESS</th>\n",
       "      <th>PLOT</th>\n",
       "      <th>FLOOR</th>\n",
       "      <th>STREET</th>\n",
       "      <th>POCKET</th>\n",
       "      <th>BLOCK</th>\n",
       "    </tr>\n",
       "  </thead>\n",
       "  <tbody>\n",
       "    <tr>\n",
       "      <th>262979</th>\n",
       "      <td>1251</td>\n",
       "      <td>153919536.0</td>\n",
       "      <td>C-174/B, OLD NOC-174/A SECOND FLOOR, GALINO1, CHAND BAGH, #, 110094</td>\n",
       "      <td>C  174  B  OLD NOC  174  A GALINO 1   C BLOCK CHAND BAGH     110094</td>\n",
       "      <td>174</td>\n",
       "      <td>SECOND</td>\n",
       "      <td>None</td>\n",
       "      <td>None</td>\n",
       "      <td>C-BLOCK</td>\n",
       "    </tr>\n",
       "    <tr>\n",
       "      <th>384708</th>\n",
       "      <td>1260</td>\n",
       "      <td>150174937.0</td>\n",
       "      <td>B-257/12, ,OLD-(PART-257/12), GALI NO-7, ASHOK NAGAR SHAHDARA, NEAR SUKER BAZAR CHOWK, 110093</td>\n",
       "      <td>B  257   12    OLD  PART  257   12    GALI NO  7   ASHOK NAGAR SHAHDARA  NEAR SUKER BAZAR CHOWK  110093</td>\n",
       "      <td>257</td>\n",
       "      <td>None</td>\n",
       "      <td>None</td>\n",
       "      <td>None</td>\n",
       "      <td>None</td>\n",
       "    </tr>\n",
       "    <tr>\n",
       "      <th>355455</th>\n",
       "      <td>1251</td>\n",
       "      <td>101263237.0</td>\n",
       "      <td>N-202, #, G NO-10, SADAT PUR EXTN, #, 110094</td>\n",
       "      <td>N  202      G NO  10   SADAT PUR EXTN     110094</td>\n",
       "      <td>202</td>\n",
       "      <td>None</td>\n",
       "      <td>None</td>\n",
       "      <td>None</td>\n",
       "      <td>None</td>\n",
       "    </tr>\n",
       "    <tr>\n",
       "      <th>203891</th>\n",
       "      <td>1211</td>\n",
       "      <td>101190810.0</td>\n",
       "      <td>#, #, #, VILL CHHAJJUPUR SHAHDARA, #, 110032</td>\n",
       "      <td>VILL CHHAJJUPUR SHAHDARA     110032</td>\n",
       "      <td>None</td>\n",
       "      <td>None</td>\n",
       "      <td>None</td>\n",
       "      <td>None</td>\n",
       "      <td>None</td>\n",
       "    </tr>\n",
       "    <tr>\n",
       "      <th>74197</th>\n",
       "      <td>1260</td>\n",
       "      <td>101631474.0</td>\n",
       "      <td>#, SH GULAB SINGH, KH NO 37/2,B-267,GALI NO 9,HARSH VIHAR, #, #, 110093</td>\n",
       "      <td>SH GULAB SINGH  KH NO 37   2  B  267  GALI NO 9  HARSH VIHAR        110093</td>\n",
       "      <td>37</td>\n",
       "      <td>None</td>\n",
       "      <td>None</td>\n",
       "      <td>None</td>\n",
       "      <td>None</td>\n",
       "    </tr>\n",
       "  </tbody>\n",
       "</table>\n",
       "</div>"
      ],
      "text/plain": [
       "        SDO_CD        CA_NO  \\\n",
       "262979    1251  153919536.0   \n",
       "384708    1260  150174937.0   \n",
       "355455    1251  101263237.0   \n",
       "203891    1211  101190810.0   \n",
       "74197     1260  101631474.0   \n",
       "\n",
       "                                                                                          ADDRESS_ORG  \\\n",
       "262979                            C-174/B, OLD NOC-174/A SECOND FLOOR, GALINO1, CHAND BAGH, #, 110094   \n",
       "384708  B-257/12, ,OLD-(PART-257/12), GALI NO-7, ASHOK NAGAR SHAHDARA, NEAR SUKER BAZAR CHOWK, 110093   \n",
       "355455                                                   N-202, #, G NO-10, SADAT PUR EXTN, #, 110094   \n",
       "203891                                                   #, #, #, VILL CHHAJJUPUR SHAHDARA, #, 110032   \n",
       "74197                         #, SH GULAB SINGH, KH NO 37/2,B-267,GALI NO 9,HARSH VIHAR, #, #, 110093   \n",
       "\n",
       "                                                                                                        ADDRESS  \\\n",
       "262979                                      C  174  B  OLD NOC  174  A GALINO 1   C BLOCK CHAND BAGH     110094   \n",
       "384708  B  257   12    OLD  PART  257   12    GALI NO  7   ASHOK NAGAR SHAHDARA  NEAR SUKER BAZAR CHOWK  110093   \n",
       "355455                                                         N  202      G NO  10   SADAT PUR EXTN     110094   \n",
       "203891                                                                      VILL CHHAJJUPUR SHAHDARA     110032   \n",
       "74197                                SH GULAB SINGH  KH NO 37   2  B  267  GALI NO 9  HARSH VIHAR        110093   \n",
       "\n",
       "         PLOT   FLOOR STREET POCKET    BLOCK  \n",
       "262979   174   SECOND   None   None  C-BLOCK  \n",
       "384708   257     None   None   None     None  \n",
       "355455   202     None   None   None     None  \n",
       "203891   None    None   None   None     None  \n",
       "74197     37     None   None   None     None  "
      ]
     },
     "execution_count": 105,
     "metadata": {},
     "output_type": "execute_result"
    }
   ],
   "source": [
    "df.sample(5)"
   ]
  },
  {
   "cell_type": "markdown",
   "metadata": {},
   "source": [
    "## <font color=aqua> Removing unnecessary info from the address </font>"
   ]
  },
  {
   "cell_type": "code",
   "execution_count": null,
   "metadata": {},
   "outputs": [
    {
     "name": "stderr",
     "output_type": "stream",
     "text": [
      "ADDRESS processed: 100%|\u001b[32m██████████\u001b[0m| 15/15 [00:07<00:00,  2.03it/s]\n"
     ]
    }
   ],
   "source": [
    "remov_list(df,'ADDRESS')"
   ]
  },
  {
   "cell_type": "markdown",
   "metadata": {},
   "source": [
    "## <font color=aqua> Replacing known words and abbreviation in address from repl_dict  </font>"
   ]
  },
  {
   "cell_type": "code",
   "execution_count": null,
   "metadata": {},
   "outputs": [
    {
     "name": "stderr",
     "output_type": "stream",
     "text": [
      "Replacing Words from repl_dict:   0%|\u001b[32m          \u001b[0m| 0/592 [00:00<?, ?it/s]"
     ]
    },
    {
     "name": "stderr",
     "output_type": "stream",
     "text": [
      "Replacing Words from repl_dict: 100%|\u001b[32m██████████\u001b[0m| 592/592 [09:49<00:00,  1.00it/s]\n"
     ]
    }
   ],
   "source": [
    "for k in tqdm(repl_dict.keys(),desc=\"Replacing Words from repl_dict\",colour='green'):\n",
    "    df['ADDRESS'] = df['ADDRESS'].apply(lambda x:x.replace(' ' + k + ' ',' ' + repl_dict[k] + ' '))\n",
    "df.reset_index(drop=True,inplace=True)"
   ]
  },
  {
   "cell_type": "markdown",
   "metadata": {},
   "source": [
    "## <font color = aqua>Segregating address markers</font>"
   ]
  },
  {
   "cell_type": "code",
   "execution_count": 21,
   "metadata": {},
   "outputs": [
    {
     "name": "stdout",
     "output_type": "stream",
     "text": [
      "CPU times: total: 50.2 s\n",
      "Wall time: 54.8 s\n"
     ]
    }
   ],
   "source": [
    "%%time\n",
    "df[\"PLOT\"]=df[\"ADDRESS\"].apply(lambda z: fetch_PLOT(z))\n",
    "\n",
    "df['FLOOR']= df['ADDRESS'].apply(lambda x: fetch_FLOOR(x)[0])\n",
    "df['ADDRESS'] = df['ADDRESS'].apply(lambda x:fetch_FLOOR(x)[1])\n",
    "\n",
    "df['STREET'] = df['ADDRESS'].apply(lambda x: fetch_STREET(x)[0])\n",
    "df['ADDRESS'] = df['ADDRESS'].apply(lambda x:fetch_STREET(x)[1])\n",
    "\n",
    "df['POCKET'] = df['ADDRESS'].apply(lambda x: fetch_POCKET(x)[0])\n",
    "df['ADDRESS_ORG'] = df['ADDRESS_ORG'].apply(lambda x:fetch_POCKET(x)[1])\n",
    "\n",
    "df['BLOCK'] = df['ADDRESS'].apply(lambda x: fetch_BLOCK(x)[0])\n",
    "df['ADDRESS_ORG'] = df['ADDRESS_ORG'].apply(lambda x:fetch_BLOCK(x)[1])"
   ]
  },
  {
   "cell_type": "code",
   "execution_count": null,
   "metadata": {},
   "outputs": [
    {
     "data": {
      "text/plain": [
       "SDO_CD              0\n",
       "CA_NO               0\n",
       "ADDRESS_ORG         0\n",
       "ADDRESS             0\n",
       "PLOT            11947\n",
       "FLOOR          497411\n",
       "BLOCK          880683\n",
       "STREET         385457\n",
       "POCKET         910958\n",
       "PINCODE          6650\n",
       "dtype: int64"
      ]
     },
     "execution_count": 21,
     "metadata": {},
     "output_type": "execute_result"
    }
   ],
   "source": [
    "df.isna().sum()"
   ]
  },
  {
   "cell_type": "code",
   "execution_count": 79,
   "metadata": {},
   "outputs": [
    {
     "ename": "KeyError",
     "evalue": "('ADDRESS_ORG', 'PLOT', 'FLOOR', 'FLOOR', 'BLOCK')",
     "output_type": "error",
     "traceback": [
      "\u001b[1;31m---------------------------------------------------------------------------\u001b[0m",
      "\u001b[1;31mKeyError\u001b[0m                                  Traceback (most recent call last)",
      "File \u001b[1;32mc:\\Users\\kirti\\miniconda3\\envs\\bypl\\lib\\site-packages\\pandas\\core\\indexes\\base.py:3652\u001b[0m, in \u001b[0;36mIndex.get_loc\u001b[1;34m(self, key)\u001b[0m\n\u001b[0;32m   3651\u001b[0m \u001b[39mtry\u001b[39;00m:\n\u001b[1;32m-> 3652\u001b[0m     \u001b[39mreturn\u001b[39;00m \u001b[39mself\u001b[39;49m\u001b[39m.\u001b[39;49m_engine\u001b[39m.\u001b[39;49mget_loc(casted_key)\n\u001b[0;32m   3653\u001b[0m \u001b[39mexcept\u001b[39;00m \u001b[39mKeyError\u001b[39;00m \u001b[39mas\u001b[39;00m err:\n",
      "File \u001b[1;32mc:\\Users\\kirti\\miniconda3\\envs\\bypl\\lib\\site-packages\\pandas\\_libs\\index.pyx:147\u001b[0m, in \u001b[0;36mpandas._libs.index.IndexEngine.get_loc\u001b[1;34m()\u001b[0m\n",
      "File \u001b[1;32mc:\\Users\\kirti\\miniconda3\\envs\\bypl\\lib\\site-packages\\pandas\\_libs\\index.pyx:176\u001b[0m, in \u001b[0;36mpandas._libs.index.IndexEngine.get_loc\u001b[1;34m()\u001b[0m\n",
      "File \u001b[1;32mpandas\\_libs\\hashtable_class_helper.pxi:7080\u001b[0m, in \u001b[0;36mpandas._libs.hashtable.PyObjectHashTable.get_item\u001b[1;34m()\u001b[0m\n",
      "File \u001b[1;32mpandas\\_libs\\hashtable_class_helper.pxi:7088\u001b[0m, in \u001b[0;36mpandas._libs.hashtable.PyObjectHashTable.get_item\u001b[1;34m()\u001b[0m\n",
      "\u001b[1;31mKeyError\u001b[0m: ('ADDRESS_ORG', 'PLOT', 'FLOOR', 'FLOOR', 'BLOCK')",
      "\nThe above exception was the direct cause of the following exception:\n",
      "\u001b[1;31mKeyError\u001b[0m                                  Traceback (most recent call last)",
      "Cell \u001b[1;32mIn[79], line 1\u001b[0m\n\u001b[1;32m----> 1\u001b[0m df[\u001b[39m'\u001b[39;49m\u001b[39mADDRESS_ORG\u001b[39;49m\u001b[39m'\u001b[39;49m,\u001b[39m'\u001b[39;49m\u001b[39mPLOT\u001b[39;49m\u001b[39m'\u001b[39;49m,\u001b[39m\"\u001b[39;49m\u001b[39mFLOOR\u001b[39;49m\u001b[39m\"\u001b[39;49m,\u001b[39m'\u001b[39;49m\u001b[39mFLOOR\u001b[39;49m\u001b[39m'\u001b[39;49m,\u001b[39m'\u001b[39;49m\u001b[39mBLOCK\u001b[39;49m\u001b[39m'\u001b[39;49m]\u001b[39m.\u001b[39miloc[\u001b[39m83937\u001b[39m]\n",
      "File \u001b[1;32mc:\\Users\\kirti\\miniconda3\\envs\\bypl\\lib\\site-packages\\pandas\\core\\frame.py:3761\u001b[0m, in \u001b[0;36mDataFrame.__getitem__\u001b[1;34m(self, key)\u001b[0m\n\u001b[0;32m   3759\u001b[0m \u001b[39mif\u001b[39;00m \u001b[39mself\u001b[39m\u001b[39m.\u001b[39mcolumns\u001b[39m.\u001b[39mnlevels \u001b[39m>\u001b[39m \u001b[39m1\u001b[39m:\n\u001b[0;32m   3760\u001b[0m     \u001b[39mreturn\u001b[39;00m \u001b[39mself\u001b[39m\u001b[39m.\u001b[39m_getitem_multilevel(key)\n\u001b[1;32m-> 3761\u001b[0m indexer \u001b[39m=\u001b[39m \u001b[39mself\u001b[39;49m\u001b[39m.\u001b[39;49mcolumns\u001b[39m.\u001b[39;49mget_loc(key)\n\u001b[0;32m   3762\u001b[0m \u001b[39mif\u001b[39;00m is_integer(indexer):\n\u001b[0;32m   3763\u001b[0m     indexer \u001b[39m=\u001b[39m [indexer]\n",
      "File \u001b[1;32mc:\\Users\\kirti\\miniconda3\\envs\\bypl\\lib\\site-packages\\pandas\\core\\indexes\\base.py:3654\u001b[0m, in \u001b[0;36mIndex.get_loc\u001b[1;34m(self, key)\u001b[0m\n\u001b[0;32m   3652\u001b[0m     \u001b[39mreturn\u001b[39;00m \u001b[39mself\u001b[39m\u001b[39m.\u001b[39m_engine\u001b[39m.\u001b[39mget_loc(casted_key)\n\u001b[0;32m   3653\u001b[0m \u001b[39mexcept\u001b[39;00m \u001b[39mKeyError\u001b[39;00m \u001b[39mas\u001b[39;00m err:\n\u001b[1;32m-> 3654\u001b[0m     \u001b[39mraise\u001b[39;00m \u001b[39mKeyError\u001b[39;00m(key) \u001b[39mfrom\u001b[39;00m \u001b[39merr\u001b[39;00m\n\u001b[0;32m   3655\u001b[0m \u001b[39mexcept\u001b[39;00m \u001b[39mTypeError\u001b[39;00m:\n\u001b[0;32m   3656\u001b[0m     \u001b[39m# If we have a listlike key, _check_indexing_error will raise\u001b[39;00m\n\u001b[0;32m   3657\u001b[0m     \u001b[39m#  InvalidIndexError. Otherwise we fall through and re-raise\u001b[39;00m\n\u001b[0;32m   3658\u001b[0m     \u001b[39m#  the TypeError.\u001b[39;00m\n\u001b[0;32m   3659\u001b[0m     \u001b[39mself\u001b[39m\u001b[39m.\u001b[39m_check_indexing_error(key)\n",
      "\u001b[1;31mKeyError\u001b[0m: ('ADDRESS_ORG', 'PLOT', 'FLOOR', 'FLOOR', 'BLOCK')"
     ]
    }
   ],
   "source": [
    "df['ADDRESS_ORG','PLOT',\"FLOOR\",'FLOOR','BLOCK'].iloc[83937]"
   ]
  },
  {
   "cell_type": "code",
   "execution_count": 87,
   "metadata": {},
   "outputs": [
    {
     "data": {
      "text/html": [
       "<div>\n",
       "<style scoped>\n",
       "    .dataframe tbody tr th:only-of-type {\n",
       "        vertical-align: middle;\n",
       "    }\n",
       "\n",
       "    .dataframe tbody tr th {\n",
       "        vertical-align: top;\n",
       "    }\n",
       "\n",
       "    .dataframe thead th {\n",
       "        text-align: right;\n",
       "    }\n",
       "</style>\n",
       "<table border=\"1\" class=\"dataframe\">\n",
       "  <thead>\n",
       "    <tr style=\"text-align: right;\">\n",
       "      <th></th>\n",
       "      <th>SDO_CD</th>\n",
       "      <th>CA_NO</th>\n",
       "      <th>ADDRESS_ORG</th>\n",
       "      <th>ADDRESS</th>\n",
       "      <th>PLOT</th>\n",
       "      <th>FLOOR</th>\n",
       "      <th>STREET</th>\n",
       "      <th>POCKET</th>\n",
       "      <th>BLOCK</th>\n",
       "    </tr>\n",
       "  </thead>\n",
       "  <tbody>\n",
       "    <tr>\n",
       "      <th>55370</th>\n",
       "      <td>1251</td>\n",
       "      <td>153752574.0</td>\n",
       "      <td>B-2415-A, GROUND FLOOR KH 305,310 &amp; 316, MAIN 25 FUTTA ROAD, SONIA VIHAR KARAWAL NAGAR, #, 110094</td>\n",
       "      <td>B- 2415 -A, KH 305 , 310 &amp; 316 , MAIN 25 FUTTA ROAD, B BLOCK, SONIA VIHAR KARAWAL NAGAR, #, 110094</td>\n",
       "      <td>2415</td>\n",
       "      <td>GROUND</td>\n",
       "      <td>None</td>\n",
       "      <td>None</td>\n",
       "      <td>B</td>\n",
       "    </tr>\n",
       "    <tr>\n",
       "      <th>791168</th>\n",
       "      <td>1250</td>\n",
       "      <td>101402401.0</td>\n",
       "      <td>#, W/O MAHESH KUMAR, D-201 KHN 498/149 MAIN ROAD,MAUJPUR, #, #, 110053</td>\n",
       "      <td>#, W/O MAHESH KUMAR, D- 201 KHN 498 / 149 MAIN ROAD,MAUJPUR, #, #, 110053</td>\n",
       "      <td>201</td>\n",
       "      <td>None</td>\n",
       "      <td>None</td>\n",
       "      <td>None</td>\n",
       "      <td>None</td>\n",
       "    </tr>\n",
       "    <tr>\n",
       "      <th>195057</th>\n",
       "      <td>1211</td>\n",
       "      <td>101266477.0</td>\n",
       "      <td>1/42-B, #, #, DILSHAD GARDEN SHAHDARA, #, 110095</td>\n",
       "      <td>1 / 42 -B, #, #, DILSHAD GARDEN SHAHDARA, #, 110095</td>\n",
       "      <td>1</td>\n",
       "      <td>None</td>\n",
       "      <td>None</td>\n",
       "      <td>None</td>\n",
       "      <td>None</td>\n",
       "    </tr>\n",
       "    <tr>\n",
       "      <th>270788</th>\n",
       "      <td>1251</td>\n",
       "      <td>101371680.0</td>\n",
       "      <td>#, OLD B-463-NEW B-449 GALI NO-6, #, PREM VIHAR KARAWAL NAGAR, #, 110094</td>\n",
       "      <td>#, OLD B- 463 -NEW B- 449 GALI NO- 6 , #, PREM VIHAR KARAWAL NAGAR, #, 110094</td>\n",
       "      <td>463</td>\n",
       "      <td>None</td>\n",
       "      <td>None</td>\n",
       "      <td>None</td>\n",
       "      <td>None</td>\n",
       "    </tr>\n",
       "    <tr>\n",
       "      <th>768950</th>\n",
       "      <td>1260</td>\n",
       "      <td>151990009.0</td>\n",
       "      <td>D-19, S/F,KH NO 473,, EAST JYOTI NAGAR, #, 110093</td>\n",
       "      <td>D- 19 , S/F,KH NO 473 ,, D-BLOCK, EAST JYOTI NAGAR, #, 110093</td>\n",
       "      <td>19</td>\n",
       "      <td>None</td>\n",
       "      <td>None</td>\n",
       "      <td>None</td>\n",
       "      <td>D-BLOCK,</td>\n",
       "    </tr>\n",
       "  </tbody>\n",
       "</table>\n",
       "</div>"
      ],
      "text/plain": [
       "        SDO_CD        CA_NO  \\\n",
       "55370     1251  153752574.0   \n",
       "791168    1250  101402401.0   \n",
       "195057    1211  101266477.0   \n",
       "270788    1251  101371680.0   \n",
       "768950    1260  151990009.0   \n",
       "\n",
       "                                                                                              ADDRESS_ORG  \\\n",
       "55370   B-2415-A, GROUND FLOOR KH 305,310 & 316, MAIN 25 FUTTA ROAD, SONIA VIHAR KARAWAL NAGAR, #, 110094   \n",
       "791168                             #, W/O MAHESH KUMAR, D-201 KHN 498/149 MAIN ROAD,MAUJPUR, #, #, 110053   \n",
       "195057                                                   1/42-B, #, #, DILSHAD GARDEN SHAHDARA, #, 110095   \n",
       "270788                           #, OLD B-463-NEW B-449 GALI NO-6, #, PREM VIHAR KARAWAL NAGAR, #, 110094   \n",
       "768950                                                  D-19, S/F,KH NO 473,, EAST JYOTI NAGAR, #, 110093   \n",
       "\n",
       "                                                                                                   ADDRESS  \\\n",
       "55370   B- 2415 -A, KH 305 , 310 & 316 , MAIN 25 FUTTA ROAD, B BLOCK, SONIA VIHAR KARAWAL NAGAR, #, 110094   \n",
       "791168                           #, W/O MAHESH KUMAR, D- 201 KHN 498 / 149 MAIN ROAD,MAUJPUR, #, #, 110053   \n",
       "195057                                                 1 / 42 -B, #, #, DILSHAD GARDEN SHAHDARA, #, 110095   \n",
       "270788                       #, OLD B- 463 -NEW B- 449 GALI NO- 6 , #, PREM VIHAR KARAWAL NAGAR, #, 110094   \n",
       "768950                                       D- 19 , S/F,KH NO 473 ,, D-BLOCK, EAST JYOTI NAGAR, #, 110093   \n",
       "\n",
       "          PLOT   FLOOR STREET POCKET     BLOCK  \n",
       "55370    2415   GROUND   None   None         B  \n",
       "791168    201     None   None   None      None  \n",
       "195057      1     None   None   None      None  \n",
       "270788    463     None   None   None      None  \n",
       "768950     19     None   None   None  D-BLOCK,  "
      ]
     },
     "execution_count": 87,
     "metadata": {},
     "output_type": "execute_result"
    }
   ],
   "source": [
    "df.sample(5)"
   ]
  },
  {
   "cell_type": "markdown",
   "metadata": {},
   "source": [
    "."
   ]
  },
  {
   "cell_type": "markdown",
   "metadata": {},
   "source": [
    "## <font color = aqua>Replacing all similar words with the most frequent one </font>"
   ]
  },
  {
   "cell_type": "markdown",
   "metadata": {},
   "source": [
    "## creating a word corpus <font color = green> [df_corpus] </font> and making various columns for it"
   ]
  },
  {
   "cell_type": "code",
   "execution_count": 106,
   "metadata": {},
   "outputs": [
    {
     "data": {
      "text/markdown": [
       "### <font color=green>(53518, 4)</font> <font color=red><b><em></em></b></font>"
      ],
      "text/plain": [
       "<IPython.core.display.Markdown object>"
      ]
     },
     "metadata": {},
     "output_type": "display_data"
    },
    {
     "data": {
      "text/html": [
       "<div>\n",
       "<style scoped>\n",
       "    .dataframe tbody tr th:only-of-type {\n",
       "        vertical-align: middle;\n",
       "    }\n",
       "\n",
       "    .dataframe tbody tr th {\n",
       "        vertical-align: top;\n",
       "    }\n",
       "\n",
       "    .dataframe thead th {\n",
       "        text-align: right;\n",
       "    }\n",
       "</style>\n",
       "<table border=\"1\" class=\"dataframe\">\n",
       "  <thead>\n",
       "    <tr style=\"text-align: right;\">\n",
       "      <th></th>\n",
       "      <th>WORD</th>\n",
       "      <th>WORD_COUNT</th>\n",
       "      <th>WORD_TYPE</th>\n",
       "      <th>WORD_LENGTH</th>\n",
       "    </tr>\n",
       "  </thead>\n",
       "  <tbody>\n",
       "    <tr>\n",
       "      <th>0</th>\n",
       "      <td>EXTN</td>\n",
       "      <td>52899</td>\n",
       "      <td>NonNumeric</td>\n",
       "      <td>4</td>\n",
       "    </tr>\n",
       "    <tr>\n",
       "      <th>1</th>\n",
       "      <td>478</td>\n",
       "      <td>645</td>\n",
       "      <td>Numeric</td>\n",
       "      <td>3</td>\n",
       "    </tr>\n",
       "    <tr>\n",
       "      <th>2</th>\n",
       "      <td>KALANDER</td>\n",
       "      <td>819</td>\n",
       "      <td>NonNumeric</td>\n",
       "      <td>8</td>\n",
       "    </tr>\n",
       "    <tr>\n",
       "      <th>3</th>\n",
       "      <td>KOLONY</td>\n",
       "      <td>2</td>\n",
       "      <td>NonNumeric</td>\n",
       "      <td>6</td>\n",
       "    </tr>\n",
       "    <tr>\n",
       "      <th>4</th>\n",
       "      <td>DILSHAD</td>\n",
       "      <td>36923</td>\n",
       "      <td>NonNumeric</td>\n",
       "      <td>7</td>\n",
       "    </tr>\n",
       "  </tbody>\n",
       "</table>\n",
       "</div>"
      ],
      "text/plain": [
       "       WORD  WORD_COUNT   WORD_TYPE  WORD_LENGTH\n",
       "0      EXTN       52899  NonNumeric            4\n",
       "1       478         645     Numeric            3\n",
       "2  KALANDER         819  NonNumeric            8\n",
       "3    KOLONY           2  NonNumeric            6\n",
       "4   DILSHAD       36923  NonNumeric            7"
      ]
     },
     "execution_count": 106,
     "metadata": {},
     "output_type": "execute_result"
    }
   ],
   "source": [
    "w = fetch_words(df,'ADDRESS', all_words=True)\n",
    "df_corpus = pd.DataFrame(zip(w.keys(),w.values()),columns = ['WORD','WORD_COUNT'])\n",
    "df_corpus['WORD_TYPE'] = df_corpus['WORD'].apply(lambda z:ifnum(z))\n",
    "df_corpus['WORD_LENGTH'] = df_corpus['WORD'].apply(lambda z:len(z))\n",
    "df_corpus[\"WORD\"] = df_corpus[\"WORD\"].apply(lambda z:re.sub(r'NULLNULL\\b', ' ', str(z)))\n",
    "newPrint(str(df_corpus.shape))\n",
    "df_corpus.head()"
   ]
  },
  {
   "attachments": {},
   "cell_type": "markdown",
   "metadata": {},
   "source": [
    "## <font color = aqua>Making a word only Dataframe <font color = green> [wordonly_corpus] </font> </font>\n",
    "### (from corpus that are NonNumeric and bigger/equal to 3)"
   ]
  },
  {
   "cell_type": "code",
   "execution_count": 108,
   "metadata": {},
   "outputs": [
    {
     "data": {
      "text/html": [
       "<div>\n",
       "<style scoped>\n",
       "    .dataframe tbody tr th:only-of-type {\n",
       "        vertical-align: middle;\n",
       "    }\n",
       "\n",
       "    .dataframe tbody tr th {\n",
       "        vertical-align: top;\n",
       "    }\n",
       "\n",
       "    .dataframe thead th {\n",
       "        text-align: right;\n",
       "    }\n",
       "</style>\n",
       "<table border=\"1\" class=\"dataframe\">\n",
       "  <thead>\n",
       "    <tr style=\"text-align: right;\">\n",
       "      <th></th>\n",
       "      <th>WORD</th>\n",
       "      <th>NO. OF MATCHES</th>\n",
       "      <th>BEST_MATCHES</th>\n",
       "    </tr>\n",
       "  </thead>\n",
       "  <tbody>\n",
       "    <tr>\n",
       "      <th>0</th>\n",
       "      <td>OPPOSITESENIORSECOUNDARYSCHOOL</td>\n",
       "      <td>0</td>\n",
       "      <td></td>\n",
       "    </tr>\n",
       "    <tr>\n",
       "      <th>1</th>\n",
       "      <td>AMBEYENCLAVECHAUHANPATTISABHA</td>\n",
       "      <td>0</td>\n",
       "      <td></td>\n",
       "    </tr>\n",
       "    <tr>\n",
       "      <th>2</th>\n",
       "      <td>SCHOOLJAVASCRIPTDATESELECTED</td>\n",
       "      <td>0</td>\n",
       "      <td></td>\n",
       "    </tr>\n",
       "    <tr>\n",
       "      <th>3</th>\n",
       "      <td>MUKANDVIHARCHOWKCYCLEFACTORY</td>\n",
       "      <td>0</td>\n",
       "      <td></td>\n",
       "    </tr>\n",
       "    <tr>\n",
       "      <th>4</th>\n",
       "      <td>BHAGATSINGHMOHLLANEWUSMANPUR</td>\n",
       "      <td>0</td>\n",
       "      <td></td>\n",
       "    </tr>\n",
       "  </tbody>\n",
       "</table>\n",
       "</div>"
      ],
      "text/plain": [
       "                             WORD  NO. OF MATCHES BEST_MATCHES\n",
       "0  OPPOSITESENIORSECOUNDARYSCHOOL               0             \n",
       "1   AMBEYENCLAVECHAUHANPATTISABHA               0             \n",
       "2    SCHOOLJAVASCRIPTDATESELECTED               0             \n",
       "3    MUKANDVIHARCHOWKCYCLEFACTORY               0             \n",
       "4    BHAGATSINGHMOHLLANEWUSMANPUR               0             "
      ]
     },
     "execution_count": 108,
     "metadata": {},
     "output_type": "execute_result"
    }
   ],
   "source": [
    "thresh_list=word_size_list=word_list =  []\n",
    "############################ Customizing wordonly dataframe ############################\n",
    "# wordonly_corpus = df_corpus[(df_corpus['WORD_TYPE']=='NonNumeric')&(df_corpus['WORD_LENGTH']>=3)][[\"WORD\",\"WORD_LENGTH\",'WORD_COUNT']]\n",
    "wordonly_corpus = df_corpus[(df_corpus['WORD_TYPE']=='NonNumeric')&(df_corpus['WORD_LENGTH']>=3)][[\"WORD\",\"WORD_LENGTH\",'WORD_COUNT']].sort_values(by='WORD_LENGTH',ascending=0)\n",
    "wordonly_corpus[\"FZ_THRESH\"] = df_corpus[\"WORD_LENGTH\"].apply(lambda z: int(100-100/(z/2)))  #Adding the calculated fuzzy threshold values for each word to a column \n",
    "wordonly_corpus[\"NO. OF MATCHES\"] = 0\n",
    "wordonly_corpus[\"BEST_MATCHES\"] = \"\"\n",
    "############################ exporting column to a various different lists ############################\n",
    "thresh_list = wordonly_corpus[\"FZ_THRESH\"].tolist()\n",
    "word_count_dict = wordonly_corpus[\"WORD_COUNT\"].tolist()\n",
    "word_list = wordonly_corpus[\"WORD\"].tolist()\n",
    "word_size_list =  wordonly_corpus[\"WORD_LENGTH\"].tolist()\n",
    "word_list = [str.strip(i) for i in word_list]\n",
    "# word_count_dict = [list(item) for item in zip(word_list , word_count_dict)]\n",
    "word_count_dict = dict(zip(word_list,word_count_dict))\n",
    "############################ Resetting and losing weights from dataframe ############################\n",
    "wordonly_corpus.drop([\"WORD_LENGTH\",\"FZ_THRESH\",'WORD_COUNT'],axis=1,inplace=True)\n",
    "wordonly_corpus.reset_index(drop=True, inplace=True)\n",
    "############################ Removing NULL from end of words ############################\n",
    "wordonly_corpus[\"WORD\"] = wordonly_corpus[\"WORD\"].apply(lambda z:re.sub(r'NULLNULL\\b', ' ', str(z)))\n",
    "\n",
    "wordonly_corpus.head()"
   ]
  },
  {
   "cell_type": "markdown",
   "metadata": {},
   "source": [
    "## <font color = aqua>Finding similar words in corpus through fuzzy and adding to the word only dataframe</font>"
   ]
  },
  {
   "cell_type": "markdown",
   "metadata": {},
   "source": [
    "rowindex = 0\n",
    "\n",
    "for i in tqdm(range(len(word_size_list)), desc=\"Processing words\", colour=\"green\"):\n",
    "    best_matches = []\n",
    "    no_of_matches = 0\n",
    "    \n",
    "    for j in range(len(word_size_list)):\n",
    "        if word_list[j] == word_list[i] or (word_size_list[j] > word_size_list[i]+2):\n",
    "            continue\n",
    "        elif word_size_list[j] < (word_size_list[i]-2):\n",
    "            break\n",
    "        else:\n",
    "            score = fuzz.ratio(word_list[i],word_list[j])\n",
    "            if score >= max(83,thresh_list[i]):\n",
    "                best_matches.append(word_list[j])\n",
    "                # print(best_matches,word_list[i])\n",
    "                no_of_matches += 1\n",
    "            else:\n",
    "                continue\n",
    "       \n",
    "    if len(best_matches) > 0:\n",
    "        wordonly_corpus.loc[i,\"BEST_MATCHES\"] = \" \".join(best_matches)\n",
    "        wordonly_corpus.loc[i, \"NO. OF MATCHES\"] = no_of_matches\n",
    "    else:\n",
    "        continue\n",
    "    \n",
    "    rowindex += 1\n",
    "    \n",
    "wordonly_corpus.reset_index(drop=True, inplace=True)"
   ]
  },
  {
   "cell_type": "code",
   "execution_count": null,
   "metadata": {},
   "outputs": [
    {
     "data": {
      "text/html": [
       "<div>\n",
       "<style scoped>\n",
       "    .dataframe tbody tr th:only-of-type {\n",
       "        vertical-align: middle;\n",
       "    }\n",
       "\n",
       "    .dataframe tbody tr th {\n",
       "        vertical-align: top;\n",
       "    }\n",
       "\n",
       "    .dataframe thead th {\n",
       "        text-align: right;\n",
       "    }\n",
       "</style>\n",
       "<table border=\"1\" class=\"dataframe\">\n",
       "  <thead>\n",
       "    <tr style=\"text-align: right;\">\n",
       "      <th></th>\n",
       "      <th>WORD</th>\n",
       "      <th>NO. OF MATCHES</th>\n",
       "      <th>BEST_MATCHES</th>\n",
       "    </tr>\n",
       "  </thead>\n",
       "  <tbody>\n",
       "    <tr>\n",
       "      <th>0</th>\n",
       "      <td>OPPOSITESENIORSECOUNDARYSCHOOL</td>\n",
       "      <td>0</td>\n",
       "      <td></td>\n",
       "    </tr>\n",
       "    <tr>\n",
       "      <th>1</th>\n",
       "      <td>AMBEYENCLAVECHAUHANPATTISABHA</td>\n",
       "      <td>0</td>\n",
       "      <td></td>\n",
       "    </tr>\n",
       "    <tr>\n",
       "      <th>2</th>\n",
       "      <td>SCHOOLJAVASCRIPTDATESELECTED</td>\n",
       "      <td>0</td>\n",
       "      <td></td>\n",
       "    </tr>\n",
       "    <tr>\n",
       "      <th>3</th>\n",
       "      <td>RAJDHANIPUBLICSCHOOLWALIGALI</td>\n",
       "      <td>0</td>\n",
       "      <td></td>\n",
       "    </tr>\n",
       "    <tr>\n",
       "      <th>4</th>\n",
       "      <td>BHAGATSINGHMOHLLANEWUSMANPUR</td>\n",
       "      <td>0</td>\n",
       "      <td></td>\n",
       "    </tr>\n",
       "    <tr>\n",
       "      <th>5</th>\n",
       "      <td>MUKANDVIHARCHOWKCYCLEFACTORY</td>\n",
       "      <td>0</td>\n",
       "      <td></td>\n",
       "    </tr>\n",
       "    <tr>\n",
       "      <th>6</th>\n",
       "      <td>AMBEDKARBASTIGHONDA</td>\n",
       "      <td>0</td>\n",
       "      <td></td>\n",
       "    </tr>\n",
       "    <tr>\n",
       "      <th>7</th>\n",
       "      <td>VIDHYALAYASEELAMPURSHAHDARA</td>\n",
       "      <td>0</td>\n",
       "      <td></td>\n",
       "    </tr>\n",
       "    <tr>\n",
       "      <th>8</th>\n",
       "      <td>MASJIDWALIGALITIRPALFECTORY</td>\n",
       "      <td>0</td>\n",
       "      <td></td>\n",
       "    </tr>\n",
       "    <tr>\n",
       "      <th>9</th>\n",
       "      <td>IMRATKIRANASTIRESHIVMANDIR</td>\n",
       "      <td>0</td>\n",
       "      <td></td>\n",
       "    </tr>\n",
       "    <tr>\n",
       "      <th>10</th>\n",
       "      <td>BHAJANPURASHAHDARA</td>\n",
       "      <td>0</td>\n",
       "      <td></td>\n",
       "    </tr>\n",
       "    <tr>\n",
       "      <th>11</th>\n",
       "      <td>GAUTAMPURISHAHDARA</td>\n",
       "      <td>0</td>\n",
       "      <td></td>\n",
       "    </tr>\n",
       "    <tr>\n",
       "      <th>12</th>\n",
       "      <td>BEHINDALOKPUNJPUBLICSCHOOL</td>\n",
       "      <td>0</td>\n",
       "      <td></td>\n",
       "    </tr>\n",
       "    <tr>\n",
       "      <th>13</th>\n",
       "      <td>BHAJANPURISHAHDARA</td>\n",
       "      <td>0</td>\n",
       "      <td></td>\n",
       "    </tr>\n",
       "    <tr>\n",
       "      <th>14</th>\n",
       "      <td>BRAHMPURISHAHDARA</td>\n",
       "      <td>0</td>\n",
       "      <td></td>\n",
       "    </tr>\n",
       "  </tbody>\n",
       "</table>\n",
       "</div>"
      ],
      "text/plain": [
       "                              WORD  NO. OF MATCHES BEST_MATCHES\n",
       "0   OPPOSITESENIORSECOUNDARYSCHOOL               0             \n",
       "1    AMBEYENCLAVECHAUHANPATTISABHA               0             \n",
       "2     SCHOOLJAVASCRIPTDATESELECTED               0             \n",
       "3     RAJDHANIPUBLICSCHOOLWALIGALI               0             \n",
       "4     BHAGATSINGHMOHLLANEWUSMANPUR               0             \n",
       "5     MUKANDVIHARCHOWKCYCLEFACTORY               0             \n",
       "6             AMBEDKARBASTIGHONDA                0             \n",
       "7      VIDHYALAYASEELAMPURSHAHDARA               0             \n",
       "8      MASJIDWALIGALITIRPALFECTORY               0             \n",
       "9       IMRATKIRANASTIRESHIVMANDIR               0             \n",
       "10             BHAJANPURASHAHDARA                0             \n",
       "11             GAUTAMPURISHAHDARA                0             \n",
       "12      BEHINDALOKPUNJPUBLICSCHOOL               0             \n",
       "13             BHAJANPURISHAHDARA                0             \n",
       "14              BRAHMPURISHAHDARA                0             "
      ]
     },
     "execution_count": 25,
     "metadata": {},
     "output_type": "execute_result"
    }
   ],
   "source": [
    "wordonly_corpus.head(15)"
   ]
  },
  {
   "cell_type": "markdown",
   "metadata": {},
   "source": [
    "## <font color = aqua>Exporting to CSVs</font>"
   ]
  },
  {
   "cell_type": "markdown",
   "metadata": {},
   "source": [
    "wordonly_corpus.to_csv(r\"D:\\Desktop\\BYPL\\DATA\\better_similar_matches.csv\", sep=',', index=False)\n",
    "#if wanted an indexed csv file\n",
    "# wordonly_corpus.to_csv(r\"D:\\Desktop\\BYPL\\DATA\\better_indexed_similar_matches.csv\", sep=',', index=True) "
   ]
  },
  {
   "cell_type": "code",
   "execution_count": 109,
   "metadata": {},
   "outputs": [
    {
     "data": {
      "text/html": [
       "<div>\n",
       "<style scoped>\n",
       "    .dataframe tbody tr th:only-of-type {\n",
       "        vertical-align: middle;\n",
       "    }\n",
       "\n",
       "    .dataframe tbody tr th {\n",
       "        vertical-align: top;\n",
       "    }\n",
       "\n",
       "    .dataframe thead th {\n",
       "        text-align: right;\n",
       "    }\n",
       "</style>\n",
       "<table border=\"1\" class=\"dataframe\">\n",
       "  <thead>\n",
       "    <tr style=\"text-align: right;\">\n",
       "      <th></th>\n",
       "      <th>WORD</th>\n",
       "      <th>BEST_MATCHES</th>\n",
       "    </tr>\n",
       "  </thead>\n",
       "  <tbody>\n",
       "    <tr>\n",
       "      <th>11</th>\n",
       "      <td>BHAJANPURASHAHDARANULLNULL</td>\n",
       "      <td>BHAJANPURISHAHDARANULLNULL BHAJANPURSHAHDARANULLNULL</td>\n",
       "    </tr>\n",
       "    <tr>\n",
       "      <th>12</th>\n",
       "      <td>BHAJANPURISHAHDARANULLNULL</td>\n",
       "      <td>BHAJANPURASHAHDARANULLNULL BHAJANPURSHAHDARANULLNULL</td>\n",
       "    </tr>\n",
       "    <tr>\n",
       "      <th>14</th>\n",
       "      <td>ZAFARABADSHAHDARANULLNULL</td>\n",
       "      <td>JAFFARABASHAHDARANULLNULL ZAFRABADSHAHDARANULLNULL ZAFRABADSHADHARANULLNULL ZAFRABASHAHDARANULLNULL</td>\n",
       "    </tr>\n",
       "    <tr>\n",
       "      <th>17</th>\n",
       "      <td>BRAHAMPURSHAHDARANULLNULL</td>\n",
       "      <td>BRAHMPURISHAHDARANULLNULL BRAHMPURSHAHDARANULLNULL</td>\n",
       "    </tr>\n",
       "    <tr>\n",
       "      <th>19</th>\n",
       "      <td>JAFFARABASHAHDARANULLNULL</td>\n",
       "      <td>ZAFARABADSHAHDARANULLNULL ZAFRABASHAHDARANULLNULL</td>\n",
       "    </tr>\n",
       "  </tbody>\n",
       "</table>\n",
       "</div>"
      ],
      "text/plain": [
       "                          WORD  \\\n",
       "11  BHAJANPURASHAHDARANULLNULL   \n",
       "12  BHAJANPURISHAHDARANULLNULL   \n",
       "14   ZAFARABADSHAHDARANULLNULL   \n",
       "17   BRAHAMPURSHAHDARANULLNULL   \n",
       "19   JAFFARABASHAHDARANULLNULL   \n",
       "\n",
       "                                                                                            BEST_MATCHES  \n",
       "11                                                  BHAJANPURISHAHDARANULLNULL BHAJANPURSHAHDARANULLNULL  \n",
       "12                                                  BHAJANPURASHAHDARANULLNULL BHAJANPURSHAHDARANULLNULL  \n",
       "14   JAFFARABASHAHDARANULLNULL ZAFRABADSHAHDARANULLNULL ZAFRABADSHADHARANULLNULL ZAFRABASHAHDARANULLNULL  \n",
       "17                                                    BRAHMPURISHAHDARANULLNULL BRAHMPURSHAHDARANULLNULL  \n",
       "19                                                     ZAFARABADSHAHDARANULLNULL ZAFRABASHAHDARANULLNULL  "
      ]
     },
     "execution_count": 109,
     "metadata": {},
     "output_type": "execute_result"
    }
   ],
   "source": [
    "wordonly_corpus = pd.read_csv(r\"D:\\Desktop\\BYPL\\DATA\\new_better_similar_matches.csv\", sep=',', header=0 )\n",
    "wordonly_corpus = wordonly_corpus[wordonly_corpus['NO. OF MATCHES']>0][[\"WORD\",\"BEST_MATCHES\"]]\n",
    "\n",
    "wordonly_corpus.head()"
   ]
  },
  {
   "cell_type": "markdown",
   "metadata": {},
   "source": [
    "## <font color = aqua>Reading data from similar words CSV</font>"
   ]
  },
  {
   "cell_type": "code",
   "execution_count": null,
   "metadata": {},
   "outputs": [
    {
     "data": {
      "text/html": [
       "<div>\n",
       "<style scoped>\n",
       "    .dataframe tbody tr th:only-of-type {\n",
       "        vertical-align: middle;\n",
       "    }\n",
       "\n",
       "    .dataframe tbody tr th {\n",
       "        vertical-align: top;\n",
       "    }\n",
       "\n",
       "    .dataframe thead th {\n",
       "        text-align: right;\n",
       "    }\n",
       "</style>\n",
       "<table border=\"1\" class=\"dataframe\">\n",
       "  <thead>\n",
       "    <tr style=\"text-align: right;\">\n",
       "      <th></th>\n",
       "      <th>WORD</th>\n",
       "      <th>BEST_MATCHES</th>\n",
       "    </tr>\n",
       "  </thead>\n",
       "  <tbody>\n",
       "    <tr>\n",
       "      <th>0</th>\n",
       "      <td>BHAJANPURASHAHDARA</td>\n",
       "      <td>BHAJANPURISHAHDARA  BHAJANPURSHAHDARA</td>\n",
       "    </tr>\n",
       "    <tr>\n",
       "      <th>1</th>\n",
       "      <td>BHAJANPURISHAHDARA</td>\n",
       "      <td>BHAJANPURASHAHDARA  BHAJANPURSHAHDARA</td>\n",
       "    </tr>\n",
       "    <tr>\n",
       "      <th>2</th>\n",
       "      <td>ZAFARABADSHAHDARA</td>\n",
       "      <td>JAFFARABASHAHDARA  ZAFRABADSHAHDARA  ZAFRABADSHADHARA  ZAFRABASHAHDARA</td>\n",
       "    </tr>\n",
       "    <tr>\n",
       "      <th>3</th>\n",
       "      <td>BRAHAMPURSHAHDARA</td>\n",
       "      <td>BRAHMPURISHAHDARA  BRAHMPURSHAHDARA</td>\n",
       "    </tr>\n",
       "    <tr>\n",
       "      <th>4</th>\n",
       "      <td>JAFFARABASHAHDARA</td>\n",
       "      <td>ZAFARABADSHAHDARA  ZAFRABASHAHDARA</td>\n",
       "    </tr>\n",
       "  </tbody>\n",
       "</table>\n",
       "</div>"
      ],
      "text/plain": [
       "                  WORD  \\\n",
       "0  BHAJANPURASHAHDARA    \n",
       "1  BHAJANPURISHAHDARA    \n",
       "2   ZAFARABADSHAHDARA    \n",
       "3   BRAHAMPURSHAHDARA    \n",
       "4   JAFFARABASHAHDARA    \n",
       "\n",
       "                                                               BEST_MATCHES  \n",
       "0                                    BHAJANPURISHAHDARA  BHAJANPURSHAHDARA   \n",
       "1                                    BHAJANPURASHAHDARA  BHAJANPURSHAHDARA   \n",
       "2   JAFFARABASHAHDARA  ZAFRABADSHAHDARA  ZAFRABADSHADHARA  ZAFRABASHAHDARA   \n",
       "3                                      BRAHMPURISHAHDARA  BRAHMPURSHAHDARA   \n",
       "4                                       ZAFARABADSHAHDARA  ZAFRABASHAHDARA   "
      ]
     },
     "execution_count": 27,
     "metadata": {},
     "output_type": "execute_result"
    }
   ],
   "source": [
    "wordonly_corpus = pd.read_csv(r\"D:\\Desktop\\BYPL\\DATA\\new_better_similar_matches.csv\", sep=',', header=0 )\n",
    "\n",
    "############################ Removing NULL suffix(s) from the data set, if present ############################\n",
    "wordonly_corpus[\"BEST_MATCHES\"] = wordonly_corpus[\"BEST_MATCHES\"].apply(lambda z:re.sub(r'NULLNULL\\b', ' ', str(z)))\n",
    "wordonly_corpus[\"WORD\"] = wordonly_corpus[\"WORD\"].apply(lambda z:re.sub(r'NULLNULL\\b', ' ', str(z)))\n",
    "\n",
    "############################ Keeping neccessary/useful word only ############################\n",
    "wordonly_corpus = wordonly_corpus[wordonly_corpus['NO. OF MATCHES']>0][[\"WORD\",\"BEST_MATCHES\"]]\n",
    "wordonly_corpus.reset_index(drop=True,inplace=True)\n",
    "\n",
    "wordonly_corpus.head()"
   ]
  },
  {
   "cell_type": "code",
   "execution_count": null,
   "metadata": {},
   "outputs": [
    {
     "data": {
      "text/plain": [
       "1"
      ]
     },
     "execution_count": 28,
     "metadata": {},
     "output_type": "execute_result"
    }
   ],
   "source": [
    "#test\n",
    "word_count_dict[\"WAZERA\"]"
   ]
  },
  {
   "cell_type": "code",
   "execution_count": null,
   "metadata": {},
   "outputs": [
    {
     "data": {
      "text/plain": [
       "WORD            0\n",
       "BEST_MATCHES    0\n",
       "dtype: int64"
      ]
     },
     "execution_count": 29,
     "metadata": {},
     "output_type": "execute_result"
    }
   ],
   "source": [
    "wordonly_corpus.isna().sum()"
   ]
  },
  {
   "cell_type": "code",
   "execution_count": null,
   "metadata": {},
   "outputs": [
    {
     "name": "stdout",
     "output_type": "stream",
     "text": [
      "BHAJANPURASHAHDARAlkjhgfds\n"
     ]
    }
   ],
   "source": [
    "a = ['BHAJANPURASHAHDARAlkjhgfds', 'BHAJANPURISHAHDARA', 'BHAJANPURSHAHDARA']\n",
    "b = {'BHAJANPURASHAHDARAlkjhgfds': 18, 'BHAJANPURISHAHDARA': 5, 'BHAJANPURSHAHDARA': 15}\n",
    "\n",
    "max_word = max(a, key=lambda x: b[x])\n",
    "print(max_word)"
   ]
  },
  {
   "cell_type": "code",
   "execution_count": null,
   "metadata": {},
   "outputs": [],
   "source": [
    "def word_repl(list,word,string):\n",
    "    for z in list:\n",
    "        if z in string:\n",
    "            return string.replace(f\" {z} \",f\" {word} \")\n",
    "        else:\n",
    "            continue"
   ]
  },
  {
   "cell_type": "code",
   "execution_count": null,
   "metadata": {},
   "outputs": [
    {
     "name": "stderr",
     "output_type": "stream",
     "text": [
      "Replaced Words:   0%|\u001b[32m          \u001b[0m| 0/33669 [00:00<?, ?it/s]"
     ]
    },
    {
     "name": "stderr",
     "output_type": "stream",
     "text": [
      "Replaced Words:   0%|\u001b[32m          \u001b[0m| 1/33669 [00:00<8:42:28,  1.07it/s]\n"
     ]
    },
    {
     "ename": "TypeError",
     "evalue": "argument of type 'NoneType' is not iterable",
     "output_type": "error",
     "traceback": [
      "\u001b[1;31m---------------------------------------------------------------------------\u001b[0m",
      "\u001b[1;31mTypeError\u001b[0m                                 Traceback (most recent call last)",
      "File \u001b[1;32m<timed exec>:8\u001b[0m\n",
      "File \u001b[1;32mc:\\Users\\kirti\\miniconda3\\envs\\bypl\\lib\\site-packages\\pandas\\core\\series.py:4630\u001b[0m, in \u001b[0;36mSeries.apply\u001b[1;34m(self, func, convert_dtype, args, **kwargs)\u001b[0m\n\u001b[0;32m   4520\u001b[0m \u001b[39mdef\u001b[39;00m \u001b[39mapply\u001b[39m(\n\u001b[0;32m   4521\u001b[0m     \u001b[39mself\u001b[39m,\n\u001b[0;32m   4522\u001b[0m     func: AggFuncType,\n\u001b[1;32m   (...)\u001b[0m\n\u001b[0;32m   4525\u001b[0m     \u001b[39m*\u001b[39m\u001b[39m*\u001b[39mkwargs,\n\u001b[0;32m   4526\u001b[0m ) \u001b[39m-\u001b[39m\u001b[39m>\u001b[39m DataFrame \u001b[39m|\u001b[39m Series:\n\u001b[0;32m   4527\u001b[0m \u001b[39m    \u001b[39m\u001b[39m\"\"\"\u001b[39;00m\n\u001b[0;32m   4528\u001b[0m \u001b[39m    Invoke function on values of Series.\u001b[39;00m\n\u001b[0;32m   4529\u001b[0m \n\u001b[1;32m   (...)\u001b[0m\n\u001b[0;32m   4628\u001b[0m \u001b[39m    dtype: float64\u001b[39;00m\n\u001b[0;32m   4629\u001b[0m \u001b[39m    \"\"\"\u001b[39;00m\n\u001b[1;32m-> 4630\u001b[0m     \u001b[39mreturn\u001b[39;00m SeriesApply(\u001b[39mself\u001b[39;49m, func, convert_dtype, args, kwargs)\u001b[39m.\u001b[39;49mapply()\n",
      "File \u001b[1;32mc:\\Users\\kirti\\miniconda3\\envs\\bypl\\lib\\site-packages\\pandas\\core\\apply.py:1025\u001b[0m, in \u001b[0;36mSeriesApply.apply\u001b[1;34m(self)\u001b[0m\n\u001b[0;32m   1022\u001b[0m     \u001b[39mreturn\u001b[39;00m \u001b[39mself\u001b[39m\u001b[39m.\u001b[39mapply_str()\n\u001b[0;32m   1024\u001b[0m \u001b[39m# self.f is Callable\u001b[39;00m\n\u001b[1;32m-> 1025\u001b[0m \u001b[39mreturn\u001b[39;00m \u001b[39mself\u001b[39;49m\u001b[39m.\u001b[39;49mapply_standard()\n",
      "File \u001b[1;32mc:\\Users\\kirti\\miniconda3\\envs\\bypl\\lib\\site-packages\\pandas\\core\\apply.py:1076\u001b[0m, in \u001b[0;36mSeriesApply.apply_standard\u001b[1;34m(self)\u001b[0m\n\u001b[0;32m   1074\u001b[0m     \u001b[39melse\u001b[39;00m:\n\u001b[0;32m   1075\u001b[0m         values \u001b[39m=\u001b[39m obj\u001b[39m.\u001b[39mastype(\u001b[39mobject\u001b[39m)\u001b[39m.\u001b[39m_values\n\u001b[1;32m-> 1076\u001b[0m         mapped \u001b[39m=\u001b[39m lib\u001b[39m.\u001b[39;49mmap_infer(\n\u001b[0;32m   1077\u001b[0m             values,\n\u001b[0;32m   1078\u001b[0m             f,\n\u001b[0;32m   1079\u001b[0m             convert\u001b[39m=\u001b[39;49m\u001b[39mself\u001b[39;49m\u001b[39m.\u001b[39;49mconvert_dtype,\n\u001b[0;32m   1080\u001b[0m         )\n\u001b[0;32m   1082\u001b[0m \u001b[39mif\u001b[39;00m \u001b[39mlen\u001b[39m(mapped) \u001b[39mand\u001b[39;00m \u001b[39misinstance\u001b[39m(mapped[\u001b[39m0\u001b[39m], ABCSeries):\n\u001b[0;32m   1083\u001b[0m     \u001b[39m# GH#43986 Need to do list(mapped) in order to get treated as nested\u001b[39;00m\n\u001b[0;32m   1084\u001b[0m     \u001b[39m#  See also GH#25959 regarding EA support\u001b[39;00m\n\u001b[0;32m   1085\u001b[0m     \u001b[39mreturn\u001b[39;00m obj\u001b[39m.\u001b[39m_constructor_expanddim(\u001b[39mlist\u001b[39m(mapped), index\u001b[39m=\u001b[39mobj\u001b[39m.\u001b[39mindex)\n",
      "File \u001b[1;32mc:\\Users\\kirti\\miniconda3\\envs\\bypl\\lib\\site-packages\\pandas\\_libs\\lib.pyx:2834\u001b[0m, in \u001b[0;36mpandas._libs.lib.map_infer\u001b[1;34m()\u001b[0m\n",
      "File \u001b[1;32m<timed exec>:8\u001b[0m, in \u001b[0;36m<lambda>\u001b[1;34m(z)\u001b[0m\n",
      "Cell \u001b[1;32mIn[32], line 3\u001b[0m, in \u001b[0;36mword_repl\u001b[1;34m(list, word, string)\u001b[0m\n\u001b[0;32m      1\u001b[0m \u001b[39mdef\u001b[39;00m \u001b[39mword_repl\u001b[39m(\u001b[39mlist\u001b[39m,word,string):\n\u001b[0;32m      2\u001b[0m     \u001b[39mfor\u001b[39;00m z \u001b[39min\u001b[39;00m \u001b[39mlist\u001b[39m:\n\u001b[1;32m----> 3\u001b[0m         \u001b[39mif\u001b[39;00m z \u001b[39min\u001b[39;49;00m string:\n\u001b[0;32m      4\u001b[0m             \u001b[39mreturn\u001b[39;00m string\u001b[39m.\u001b[39mreplace(\u001b[39mf\u001b[39m\u001b[39m\"\u001b[39m\u001b[39m \u001b[39m\u001b[39m{\u001b[39;00mz\u001b[39m}\u001b[39;00m\u001b[39m \u001b[39m\u001b[39m\"\u001b[39m,\u001b[39mf\u001b[39m\u001b[39m\"\u001b[39m\u001b[39m \u001b[39m\u001b[39m{\u001b[39;00mword\u001b[39m}\u001b[39;00m\u001b[39m \u001b[39m\u001b[39m\"\u001b[39m)\n\u001b[0;32m      5\u001b[0m         \u001b[39melse\u001b[39;00m:\n",
      "\u001b[1;31mTypeError\u001b[0m: argument of type 'NoneType' is not iterable"
     ]
    }
   ],
   "source": [
    "%%time\n",
    "processed_words = set()\n",
    "for i in tqdm(range(len(wordonly_corpus)),desc=\"Replaced Words\",colour='green'):\n",
    "    if wordonly_corpus['WORD'].iloc[i] not in processed_words:\n",
    "        temp_word_list = (wordonly_corpus['BEST_MATCHES'].iloc[i] + wordonly_corpus['WORD'].iloc[2]).strip().split()\n",
    "        best = max(temp_word_list, key=lambda x: word_count_dict[x])\n",
    "        processed_words.update(k)\n",
    "        temp_word_list.remove(best)\n",
    "        df['ADDRESS_ORG'] = df['ADDRESS_ORG'].apply(lambda z: word_repl(temp_word_list,best,z))\n",
    "        \n",
    "    else:  \n",
    "        continue\n",
    "    "
   ]
  },
  {
   "cell_type": "code",
   "execution_count": 121,
   "metadata": {},
   "outputs": [
    {
     "data": {
      "text/html": [
       "<div>\n",
       "<style scoped>\n",
       "    .dataframe tbody tr th:only-of-type {\n",
       "        vertical-align: middle;\n",
       "    }\n",
       "\n",
       "    .dataframe tbody tr th {\n",
       "        vertical-align: top;\n",
       "    }\n",
       "\n",
       "    .dataframe thead th {\n",
       "        text-align: right;\n",
       "    }\n",
       "</style>\n",
       "<table border=\"1\" class=\"dataframe\">\n",
       "  <thead>\n",
       "    <tr style=\"text-align: right;\">\n",
       "      <th></th>\n",
       "      <th>SDO_CD</th>\n",
       "      <th>CA_NO</th>\n",
       "      <th>ADDRESS_ORG</th>\n",
       "      <th>ADDRESS</th>\n",
       "      <th>PLOT</th>\n",
       "      <th>FLOOR</th>\n",
       "      <th>STREET</th>\n",
       "      <th>POCKET</th>\n",
       "      <th>BLOCK</th>\n",
       "    </tr>\n",
       "  </thead>\n",
       "  <tbody>\n",
       "    <tr>\n",
       "      <th>505617</th>\n",
       "      <td>1251</td>\n",
       "      <td>101521816.0</td>\n",
       "      <td>H NO-1081, GALI NO-13, KH NO-379,RAJEEV GANDHI NGR,, NEW MUSTAFA BAD,DELHI, NEAR MADNI MASJID, 110094</td>\n",
       "      <td>H NO  1081   GALI NO  13   KH NO  379  RAJEEV GANDHI NGR   NEW MUSTAFA BAD DELHI  NEAR MADNI MASJID  110094</td>\n",
       "      <td>1081</td>\n",
       "      <td>None</td>\n",
       "      <td>None</td>\n",
       "      <td>None</td>\n",
       "      <td>None</td>\n",
       "    </tr>\n",
       "    <tr>\n",
       "      <th>79206</th>\n",
       "      <td>1250</td>\n",
       "      <td>153809011.0</td>\n",
       "      <td>A-80/9, G/FLOOR, MAIN PUSTA ROAD, BHAJANPURA, #, 110053</td>\n",
       "      <td>A  80   9   A BLOCK MAIN PUSTA ROAD  BHAJANPURA     110053</td>\n",
       "      <td>80</td>\n",
       "      <td>G/FLOOR,</td>\n",
       "      <td>None</td>\n",
       "      <td>None</td>\n",
       "      <td>A-BLOCK</td>\n",
       "    </tr>\n",
       "    <tr>\n",
       "      <th>783784</th>\n",
       "      <td>1250</td>\n",
       "      <td>101492481.0</td>\n",
       "      <td>C-1/8, #, #, IMAM BARA NEW SILAMPUR SHAHDARA, #, 110093</td>\n",
       "      <td>C  1   8         IMAM BARA NEW SILAMPUR SHAHDARA     110093</td>\n",
       "      <td>1</td>\n",
       "      <td>None</td>\n",
       "      <td>None</td>\n",
       "      <td>None</td>\n",
       "      <td>None</td>\n",
       "    </tr>\n",
       "    <tr>\n",
       "      <th>915743</th>\n",
       "      <td>1251</td>\n",
       "      <td>101343643.0</td>\n",
       "      <td>A-1/18, OLD HNO-A-1, KHNO-289 &amp; 292, KANHAIYA VIHAR, JOHRI PUR, DELHI, NEAR PNB BANK, 110094</td>\n",
       "      <td>A  1   18   OLD HNO A  1   KHNO  289   292   KANHAIYA VIHAR  JOHRI PUR  DELHI  NEAR PNB BANK  110094</td>\n",
       "      <td>1</td>\n",
       "      <td>None</td>\n",
       "      <td>None</td>\n",
       "      <td>None</td>\n",
       "      <td>None</td>\n",
       "    </tr>\n",
       "    <tr>\n",
       "      <th>675945</th>\n",
       "      <td>1260</td>\n",
       "      <td>101561866.0</td>\n",
       "      <td>O-537, #, #, SUNDER NAGRI, #, 110093</td>\n",
       "      <td>O  537         SUNDER NAGRI     110093</td>\n",
       "      <td>537</td>\n",
       "      <td>None</td>\n",
       "      <td>None</td>\n",
       "      <td>None</td>\n",
       "      <td>None</td>\n",
       "    </tr>\n",
       "  </tbody>\n",
       "</table>\n",
       "</div>"
      ],
      "text/plain": [
       "        SDO_CD        CA_NO  \\\n",
       "505617    1251  101521816.0   \n",
       "79206     1250  153809011.0   \n",
       "783784    1250  101492481.0   \n",
       "915743    1251  101343643.0   \n",
       "675945    1260  101561866.0   \n",
       "\n",
       "                                                                                                  ADDRESS_ORG  \\\n",
       "505617  H NO-1081, GALI NO-13, KH NO-379,RAJEEV GANDHI NGR,, NEW MUSTAFA BAD,DELHI, NEAR MADNI MASJID, 110094   \n",
       "79206                                                 A-80/9, G/FLOOR, MAIN PUSTA ROAD, BHAJANPURA, #, 110053   \n",
       "783784                                                C-1/8, #, #, IMAM BARA NEW SILAMPUR SHAHDARA, #, 110093   \n",
       "915743           A-1/18, OLD HNO-A-1, KHNO-289 & 292, KANHAIYA VIHAR, JOHRI PUR, DELHI, NEAR PNB BANK, 110094   \n",
       "675945                                                                   O-537, #, #, SUNDER NAGRI, #, 110093   \n",
       "\n",
       "                                                                                                            ADDRESS  \\\n",
       "505617  H NO  1081   GALI NO  13   KH NO  379  RAJEEV GANDHI NGR   NEW MUSTAFA BAD DELHI  NEAR MADNI MASJID  110094   \n",
       "79206                                                    A  80   9   A BLOCK MAIN PUSTA ROAD  BHAJANPURA     110053   \n",
       "783784                                                  C  1   8         IMAM BARA NEW SILAMPUR SHAHDARA     110093   \n",
       "915743         A  1   18   OLD HNO A  1   KHNO  289   292   KANHAIYA VIHAR  JOHRI PUR  DELHI  NEAR PNB BANK  110094   \n",
       "675945                                                                       O  537         SUNDER NAGRI     110093   \n",
       "\n",
       "          PLOT     FLOOR STREET POCKET    BLOCK  \n",
       "505617   1081       None   None   None     None  \n",
       "79206      80   G/FLOOR,   None   None  A-BLOCK  \n",
       "783784      1       None   None   None     None  \n",
       "915743      1       None   None   None     None  \n",
       "675945    537       None   None   None     None  "
      ]
     },
     "execution_count": 121,
     "metadata": {},
     "output_type": "execute_result"
    }
   ],
   "source": [
    "# z = \"ooooooooooo\"\n",
    "# zz = ['BHAJANPURASHAHDARAlkjhgfds', 'BHAJANPURISHAHDARA', 'BHAJANPURSHAHDARA']\n",
    "# zzz = \"BHAJANPURASHAHDARAlkjhgfds\"\n",
    "# str = \"asdfghjkqwertyui dfghjkl tyuio dtrctytvhbjnk ydtrchjvhbjn BHAJANPURISHAHDARA r cytbvjygnhmukjl sytdghj kd 5fbygunki bvyjnbhmk BHAJANPURASHAHDARAlkjhgfds ftjgbhn d fuighjom, d ufi6 gunhjmok 6rfuygbhj BHAJANPURSHAHDARA o8yivg\"\n",
    "\n",
    "# str.replace(f\" {zzz} \",f\" {z} \")\n",
    "# ans = word_repl(zz,z,str)\n",
    "# print(ans)\n",
    "\n",
    "df.sample(5)"
   ]
  }
 ],
 "metadata": {
  "kernelspec": {
   "display_name": "bypl",
   "language": "python",
   "name": "python3"
  },
  "language_info": {
   "codemirror_mode": {
    "name": "ipython",
    "version": 3
   },
   "file_extension": ".py",
   "mimetype": "text/x-python",
   "name": "python",
   "nbconvert_exporter": "python",
   "pygments_lexer": "ipython3",
   "version": "3.10.12"
  },
  "orig_nbformat": 4
 },
 "nbformat": 4,
 "nbformat_minor": 2
}
